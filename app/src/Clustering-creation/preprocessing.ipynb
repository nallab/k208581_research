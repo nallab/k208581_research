{
 "metadata": {
  "language_info": {
   "codemirror_mode": {
    "name": "ipython",
    "version": 3
   },
   "file_extension": ".py",
   "mimetype": "text/x-python",
   "name": "python",
   "nbconvert_exporter": "python",
   "pygments_lexer": "ipython3",
   "version": "3.7.10"
  },
  "orig_nbformat": 2,
  "kernelspec": {
   "name": "pythonjvsc74a57bd0db33b9f7f7cfa92ad9f742d45b74c770b03f299969fa4d08d31fb7fd7d681032",
   "display_name": "Python 3.7.10  ('.venv': venv)"
  },
  "metadata": {
   "interpreter": {
    "hash": "db33b9f7f7cfa92ad9f742d45b74c770b03f299969fa4d08d31fb7fd7d681032"
   }
  }
 },
 "nbformat": 4,
 "nbformat_minor": 2,
 "cells": [
  {
   "cell_type": "code",
   "execution_count": 9,
   "metadata": {},
   "outputs": [],
   "source": [
    "import glob\n",
    "import os\n",
    "from numpy import NaN\n",
    "import pandas as pd\n",
    "from gensim.models.keyedvectors import KeyedVectors\n",
    "from sklearn.preprocessing import LabelBinarizer\n",
    "from sklearn.ensemble import RandomForestClassifier\n",
    "from sklearn.model_selection import train_test_split\n",
    "from sklearn.multioutput import MultiOutputClassifier"
   ]
  },
  {
   "cell_type": "code",
   "execution_count": 10,
   "metadata": {},
   "outputs": [],
   "source": [
    "files = glob.glob(os.path.join(\"../../data/result\", \"*.csv\"))\n",
    "df_list = []\n",
    "for file in files:\n",
    "    tmp_df = pd.read_csv(file)\n",
    "    tmp_df['filename'] = os.path.basename(file)\n",
    "    df_list.append(tmp_df)\n",
    "df = pd.concat(df_list, ignore_index=True)"
   ]
  },
  {
   "cell_type": "code",
   "execution_count": 11,
   "metadata": {},
   "outputs": [],
   "source": [
    "# predの要素で, propertyが含まれる値を返す\n",
    "df_prop = df.query('pred.str.contains(\"property\")', engine='python')\n",
    "# 'wikiPage'を含まないpropertyを返す\n",
    "df_prop = df_prop[~df_prop['pred'].str.contains('wikiPage')]\n",
    "df_prop = df_prop[~df_prop['pred'].str.contains('画像')]\n",
    "top_10_df_prop = df_prop.groupby('pred').count().sort_values(['obj'], ascending=False).head(10)\n",
    "top_10_prop_list = top_10_df_prop.index.to_list()\n",
    "top_10_df = df[df['pred'].isin(top_10_prop_list)]\n",
    "prop_to_label = dict(zip(top_10_prop_list, range(0,10)))"
   ]
  },
  {
   "cell_type": "code",
   "execution_count": 12,
   "metadata": {},
   "outputs": [
    {
     "output_type": "execute_result",
     "data": {
      "text/plain": [
       "['http://ja.dbpedia.org/property/隣接都道府県',\n",
       " 'http://ja.dbpedia.org/property/before',\n",
       " 'http://ja.dbpedia.org/property/歌など',\n",
       " 'http://ja.dbpedia.org/property/所在地',\n",
       " 'http://ja.dbpedia.org/property/説明',\n",
       " 'http://ja.dbpedia.org/property/表記',\n",
       " 'http://ja.dbpedia.org/property/years',\n",
       " 'http://ja.dbpedia.org/property/after',\n",
       " 'http://ja.dbpedia.org/property/シンボル名',\n",
       " 'http://ja.dbpedia.org/property/title']"
      ]
     },
     "metadata": {},
     "execution_count": 12
    }
   ],
   "source": [
    "top_10_prop_list"
   ]
  },
  {
   "cell_type": "code",
   "execution_count": 13,
   "metadata": {},
   "outputs": [],
   "source": [
    "model = KeyedVectors.load('../../Models/japanese-word2vec-model-builder/word2vec.gensim.model')"
   ]
  },
  {
   "cell_type": "code",
   "execution_count": 14,
   "metadata": {},
   "outputs": [],
   "source": [
    "def vectorize(model, word):\n",
    "    try:\n",
    "        output = model.wv[word]\n",
    "        return output\n",
    "    except:\n",
    "        return \"NaN\""
   ]
  },
  {
   "cell_type": "code",
   "execution_count": 15,
   "metadata": {},
   "outputs": [],
   "source": [
    "def preprocessing(obj):\n",
    "    if type(obj) != str:\n",
    "        output = obj\n",
    "    elif len(obj.split(\"：\")) != 1:\n",
    "        output = obj.split(\"：\")[-1]\n",
    "    else:\n",
    "        output = obj.split(\"/\")[-1]\n",
    "    return output"
   ]
  },
  {
   "cell_type": "code",
   "execution_count": 16,
   "metadata": {},
   "outputs": [],
   "source": [
    "# vectorization\n",
    "cp_top_10_df = top_10_df.copy()\n",
    "cp_top_10_df['key_vec'] = cp_top_10_df['key'].map(lambda x:vectorize(model,x))\n",
    "cp_top_10_df['label'] = cp_top_10_df['pred'].map(prop_to_label)\n",
    "obj_list = cp_top_10_df['obj'].map(lambda x:preprocessing(x))\n",
    "cp_top_10_df['obj_vec'] = obj_list.map(lambda x:vectorize(model,x))"
   ]
  },
  {
   "cell_type": "code",
   "execution_count": 17,
   "metadata": {},
   "outputs": [],
   "source": [
    "top_10_df_vec = pd.merge(top_10_df,cp_top_10_df, left_index=True, right_on=top_10_df.index)\n",
    "top_10_df_vec = top_10_df_vec.reset_index(drop=True)"
   ]
  },
  {
   "cell_type": "code",
   "execution_count": 18,
   "metadata": {},
   "outputs": [],
   "source": [
    "top_10_df_vec = top_10_df_vec.drop([\"key_0\",\"filename_x\",\"key_y\",\"pred_y\",\"obj_y\",\"filename_y\"], axis=1)"
   ]
  },
  {
   "cell_type": "code",
   "execution_count": null,
   "metadata": {},
   "outputs": [],
   "source": []
  },
  {
   "cell_type": "code",
   "execution_count": 19,
   "metadata": {},
   "outputs": [
    {
     "output_type": "stream",
     "name": "stderr",
     "text": [
      "/Users/uehararyouta/Desktop/DBpedia_access_python/.venv/lib/python3.7/site-packages/pandas/core/ops/array_ops.py:55: FutureWarning: elementwise comparison failed; returning scalar instead, but in the future will perform elementwise comparison\n  result = libops.scalar_compare(x.ravel(), y, op)\n"
     ]
    }
   ],
   "source": [
    "#top_10_df_vec_exclusion_null = top_10_df_vec[top_10_df_vec['obj_vec'] != \"Null\"].reset_index(drop=True)\n",
    "top_10_df_vec_exclusion_nan = top_10_df_vec[top_10_df_vec['obj_vec'] != \"NaN\"].reset_index(drop=True)\n",
    "#top_10_df_vec_exclusion_null"
   ]
  },
  {
   "cell_type": "code",
   "execution_count": 20,
   "metadata": {},
   "outputs": [
    {
     "output_type": "execute_result",
     "data": {
      "text/plain": [
       "    key_x                                 pred_x  \\\n",
       "0     沖縄県   http://ja.dbpedia.org/property/after   \n",
       "1     沖縄県  http://ja.dbpedia.org/property/before   \n",
       "2     沖縄県  http://ja.dbpedia.org/property/before   \n",
       "3     沖縄県  http://ja.dbpedia.org/property/before   \n",
       "4     沖縄県   http://ja.dbpedia.org/property/years   \n",
       "..    ...                                    ...   \n",
       "586   高知県      http://ja.dbpedia.org/property/表記   \n",
       "587   高知県     http://ja.dbpedia.org/property/歌など   \n",
       "588   高知県  http://ja.dbpedia.org/property/隣接都道府県   \n",
       "589   高知県  http://ja.dbpedia.org/property/隣接都道府県   \n",
       "590   高知県  http://ja.dbpedia.org/property/隣接都道府県   \n",
       "\n",
       "                                        obj_x  \\\n",
       "0    http://ja.dbpedia.org/resource/琉球列島米国軍政府   \n",
       "1    http://ja.dbpedia.org/resource/琉球列島米国民政府   \n",
       "2         http://ja.dbpedia.org/resource/琉球政府   \n",
       "3          http://ja.dbpedia.org/resource/琉球藩   \n",
       "4                                        1879   \n",
       "..                                        ...   \n",
       "586                                         次   \n",
       "587                                   県の魚：カツオ   \n",
       "588        http://ja.dbpedia.org/resource/大分県   \n",
       "589        http://ja.dbpedia.org/resource/徳島県   \n",
       "590        http://ja.dbpedia.org/resource/愛媛県   \n",
       "\n",
       "                                               key_vec  label  \\\n",
       "0    [0.03427477, 0.17860307, -0.041606415, 0.09745...      7   \n",
       "1    [0.03427477, 0.17860307, -0.041606415, 0.09745...      1   \n",
       "2    [0.03427477, 0.17860307, -0.041606415, 0.09745...      1   \n",
       "3    [0.03427477, 0.17860307, -0.041606415, 0.09745...      1   \n",
       "4    [0.03427477, 0.17860307, -0.041606415, 0.09745...      6   \n",
       "..                                                 ...    ...   \n",
       "586  [-0.021919195, 0.10427152, 0.04427553, 0.12341...      5   \n",
       "587  [-0.021919195, 0.10427152, 0.04427553, 0.12341...      2   \n",
       "588  [-0.021919195, 0.10427152, 0.04427553, 0.12341...      0   \n",
       "589  [-0.021919195, 0.10427152, 0.04427553, 0.12341...      0   \n",
       "590  [-0.021919195, 0.10427152, 0.04427553, 0.12341...      0   \n",
       "\n",
       "                                               obj_vec  \n",
       "0    [-0.13429342, -0.09761905, 0.068803005, 0.0482...  \n",
       "1    [-0.08374447, 0.07326782, -0.10170767, 0.10177...  \n",
       "2    [-0.050090242, 0.18710567, -0.044265315, 0.181...  \n",
       "3    [-0.20956942, -0.06843233, -0.041769836, -0.07...  \n",
       "4    [-0.10014486, 0.016131686, -0.15636334, 0.0958...  \n",
       "..                                                 ...  \n",
       "586  [-0.12088986, 0.10902696, -0.06065345, 0.07214...  \n",
       "587  [-0.1669918, 0.011190996, 0.08135691, 0.178282...  \n",
       "588  [0.01619406, 0.14829713, 0.05118972, 0.1368117...  \n",
       "589  [0.013457059, 0.049274415, 0.034320407, 0.1147...  \n",
       "590  [0.03236583, 0.15602386, 0.05225042, 0.1419581...  \n",
       "\n",
       "[591 rows x 6 columns]"
      ],
      "text/html": "<div>\n<style scoped>\n    .dataframe tbody tr th:only-of-type {\n        vertical-align: middle;\n    }\n\n    .dataframe tbody tr th {\n        vertical-align: top;\n    }\n\n    .dataframe thead th {\n        text-align: right;\n    }\n</style>\n<table border=\"1\" class=\"dataframe\">\n  <thead>\n    <tr style=\"text-align: right;\">\n      <th></th>\n      <th>key_x</th>\n      <th>pred_x</th>\n      <th>obj_x</th>\n      <th>key_vec</th>\n      <th>label</th>\n      <th>obj_vec</th>\n    </tr>\n  </thead>\n  <tbody>\n    <tr>\n      <th>0</th>\n      <td>沖縄県</td>\n      <td>http://ja.dbpedia.org/property/after</td>\n      <td>http://ja.dbpedia.org/resource/琉球列島米国軍政府</td>\n      <td>[0.03427477, 0.17860307, -0.041606415, 0.09745...</td>\n      <td>7</td>\n      <td>[-0.13429342, -0.09761905, 0.068803005, 0.0482...</td>\n    </tr>\n    <tr>\n      <th>1</th>\n      <td>沖縄県</td>\n      <td>http://ja.dbpedia.org/property/before</td>\n      <td>http://ja.dbpedia.org/resource/琉球列島米国民政府</td>\n      <td>[0.03427477, 0.17860307, -0.041606415, 0.09745...</td>\n      <td>1</td>\n      <td>[-0.08374447, 0.07326782, -0.10170767, 0.10177...</td>\n    </tr>\n    <tr>\n      <th>2</th>\n      <td>沖縄県</td>\n      <td>http://ja.dbpedia.org/property/before</td>\n      <td>http://ja.dbpedia.org/resource/琉球政府</td>\n      <td>[0.03427477, 0.17860307, -0.041606415, 0.09745...</td>\n      <td>1</td>\n      <td>[-0.050090242, 0.18710567, -0.044265315, 0.181...</td>\n    </tr>\n    <tr>\n      <th>3</th>\n      <td>沖縄県</td>\n      <td>http://ja.dbpedia.org/property/before</td>\n      <td>http://ja.dbpedia.org/resource/琉球藩</td>\n      <td>[0.03427477, 0.17860307, -0.041606415, 0.09745...</td>\n      <td>1</td>\n      <td>[-0.20956942, -0.06843233, -0.041769836, -0.07...</td>\n    </tr>\n    <tr>\n      <th>4</th>\n      <td>沖縄県</td>\n      <td>http://ja.dbpedia.org/property/years</td>\n      <td>1879</td>\n      <td>[0.03427477, 0.17860307, -0.041606415, 0.09745...</td>\n      <td>6</td>\n      <td>[-0.10014486, 0.016131686, -0.15636334, 0.0958...</td>\n    </tr>\n    <tr>\n      <th>...</th>\n      <td>...</td>\n      <td>...</td>\n      <td>...</td>\n      <td>...</td>\n      <td>...</td>\n      <td>...</td>\n    </tr>\n    <tr>\n      <th>586</th>\n      <td>高知県</td>\n      <td>http://ja.dbpedia.org/property/表記</td>\n      <td>次</td>\n      <td>[-0.021919195, 0.10427152, 0.04427553, 0.12341...</td>\n      <td>5</td>\n      <td>[-0.12088986, 0.10902696, -0.06065345, 0.07214...</td>\n    </tr>\n    <tr>\n      <th>587</th>\n      <td>高知県</td>\n      <td>http://ja.dbpedia.org/property/歌など</td>\n      <td>県の魚：カツオ</td>\n      <td>[-0.021919195, 0.10427152, 0.04427553, 0.12341...</td>\n      <td>2</td>\n      <td>[-0.1669918, 0.011190996, 0.08135691, 0.178282...</td>\n    </tr>\n    <tr>\n      <th>588</th>\n      <td>高知県</td>\n      <td>http://ja.dbpedia.org/property/隣接都道府県</td>\n      <td>http://ja.dbpedia.org/resource/大分県</td>\n      <td>[-0.021919195, 0.10427152, 0.04427553, 0.12341...</td>\n      <td>0</td>\n      <td>[0.01619406, 0.14829713, 0.05118972, 0.1368117...</td>\n    </tr>\n    <tr>\n      <th>589</th>\n      <td>高知県</td>\n      <td>http://ja.dbpedia.org/property/隣接都道府県</td>\n      <td>http://ja.dbpedia.org/resource/徳島県</td>\n      <td>[-0.021919195, 0.10427152, 0.04427553, 0.12341...</td>\n      <td>0</td>\n      <td>[0.013457059, 0.049274415, 0.034320407, 0.1147...</td>\n    </tr>\n    <tr>\n      <th>590</th>\n      <td>高知県</td>\n      <td>http://ja.dbpedia.org/property/隣接都道府県</td>\n      <td>http://ja.dbpedia.org/resource/愛媛県</td>\n      <td>[-0.021919195, 0.10427152, 0.04427553, 0.12341...</td>\n      <td>0</td>\n      <td>[0.03236583, 0.15602386, 0.05225042, 0.1419581...</td>\n    </tr>\n  </tbody>\n</table>\n<p>591 rows × 6 columns</p>\n</div>"
     },
     "metadata": {},
     "execution_count": 20
    }
   ],
   "source": [
    "top_10_df_vec_exclusion_nan"
   ]
  },
  {
   "cell_type": "code",
   "execution_count": 21,
   "metadata": {},
   "outputs": [],
   "source": [
    "input_data = list(top_10_df_vec_exclusion_nan['obj_vec'].values)\n",
    "label_data = top_10_df_vec_exclusion_nan['label'].values\n",
    "label_dence = LabelBinarizer().fit_transform(label_data)\n",
    "X_train, X_test, y_train, y_test = train_test_split(input_data, label_dence)"
   ]
  },
  {
   "cell_type": "code",
   "execution_count": 22,
   "metadata": {},
   "outputs": [],
   "source": [
    "forest = RandomForestClassifier(n_estimators = 10,random_state=1)\n",
    "#multi_target_forest = MultiOutputClassifier(forest, n_jobs=-1)"
   ]
  },
  {
   "cell_type": "code",
   "execution_count": 28,
   "metadata": {},
   "outputs": [
    {
     "output_type": "execute_result",
     "data": {
      "text/plain": [
       "RandomForestClassifier(n_estimators=10, random_state=1)"
      ]
     },
     "metadata": {},
     "execution_count": 28
    }
   ],
   "source": [
    "forest.fit(input_data, label_dence)"
   ]
  },
  {
   "cell_type": "code",
   "execution_count": 29,
   "metadata": {
    "tags": []
   },
   "outputs": [],
   "source": [
    "y_pred = forest.predict(input_data)\n",
    "y_pred_proba = forest.predict_proba(input_data)"
   ]
  },
  {
   "cell_type": "code",
   "execution_count": 31,
   "metadata": {},
   "outputs": [
    {
     "output_type": "execute_result",
     "data": {
      "text/plain": [
       "0.9627749576988156"
      ]
     },
     "metadata": {},
     "execution_count": 31
    }
   ],
   "source": [
    "from sklearn.metrics import accuracy_score\n",
    "accuracy_score(label_dence, y_pred)"
   ]
  },
  {
   "cell_type": "code",
   "execution_count": 36,
   "metadata": {},
   "outputs": [
    {
     "output_type": "execute_result",
     "data": {
      "text/plain": [
       "array([0, 0, 0, 0, 0, 0, 1, 0, 0, 0])"
      ]
     },
     "metadata": {},
     "execution_count": 36
    }
   ],
   "source": [
    "y_pred[4]"
   ]
  },
  {
   "cell_type": "code",
   "execution_count": 19,
   "metadata": {},
   "outputs": [
    {
     "output_type": "execute_result",
     "data": {
      "text/plain": [
       "array([[1.        , 0.        ],\n",
       "       [0.1       , 0.9       ],\n",
       "       [1.        , 0.        ],\n",
       "       [1.        , 0.        ],\n",
       "       [0.        , 1.        ],\n",
       "       [0.16785714, 0.83214286],\n",
       "       [1.        , 0.        ],\n",
       "       [0.2       , 0.8       ],\n",
       "       [1.        , 0.        ],\n",
       "       [0.        , 1.        ],\n",
       "       [1.        , 0.        ],\n",
       "       [0.8       , 0.2       ],\n",
       "       [0.        , 1.        ],\n",
       "       [0.        , 1.        ],\n",
       "       [0.23206349, 0.76793651],\n",
       "       [0.        , 1.        ],\n",
       "       [0.        , 1.        ],\n",
       "       [1.        , 0.        ],\n",
       "       [1.        , 0.        ],\n",
       "       [1.        , 0.        ],\n",
       "       [0.        , 1.        ],\n",
       "       [1.        , 0.        ],\n",
       "       [1.        , 0.        ],\n",
       "       [1.        , 0.        ],\n",
       "       [0.        , 1.        ],\n",
       "       [0.        , 1.        ],\n",
       "       [0.9       , 0.1       ],\n",
       "       [0.1       , 0.9       ],\n",
       "       [0.4       , 0.6       ],\n",
       "       [0.1       , 0.9       ],\n",
       "       [1.        , 0.        ],\n",
       "       [0.8       , 0.2       ],\n",
       "       [0.9       , 0.1       ],\n",
       "       [1.        , 0.        ],\n",
       "       [0.        , 1.        ],\n",
       "       [1.        , 0.        ],\n",
       "       [0.9       , 0.1       ],\n",
       "       [0.9       , 0.1       ],\n",
       "       [0.        , 1.        ],\n",
       "       [0.9       , 0.1       ],\n",
       "       [1.        , 0.        ],\n",
       "       [1.        , 0.        ],\n",
       "       [0.11666667, 0.88333333],\n",
       "       [0.        , 1.        ],\n",
       "       [0.40833333, 0.59166667],\n",
       "       [1.        , 0.        ],\n",
       "       [1.        , 0.        ],\n",
       "       [1.        , 0.        ],\n",
       "       [0.9       , 0.1       ],\n",
       "       [1.        , 0.        ],\n",
       "       [0.1       , 0.9       ],\n",
       "       [1.        , 0.        ],\n",
       "       [1.        , 0.        ],\n",
       "       [1.        , 0.        ],\n",
       "       [1.        , 0.        ],\n",
       "       [1.        , 0.        ],\n",
       "       [0.        , 1.        ],\n",
       "       [0.        , 1.        ],\n",
       "       [1.        , 0.        ],\n",
       "       [1.        , 0.        ],\n",
       "       [1.        , 0.        ],\n",
       "       [1.        , 0.        ],\n",
       "       [1.        , 0.        ],\n",
       "       [1.        , 0.        ],\n",
       "       [1.        , 0.        ],\n",
       "       [1.        , 0.        ],\n",
       "       [0.4       , 0.6       ],\n",
       "       [0.        , 1.        ],\n",
       "       [1.        , 0.        ],\n",
       "       [0.85      , 0.15      ],\n",
       "       [0.        , 1.        ],\n",
       "       [1.        , 0.        ],\n",
       "       [1.        , 0.        ],\n",
       "       [0.        , 1.        ],\n",
       "       [1.        , 0.        ],\n",
       "       [1.        , 0.        ],\n",
       "       [1.        , 0.        ],\n",
       "       [0.        , 1.        ],\n",
       "       [1.        , 0.        ],\n",
       "       [0.        , 1.        ],\n",
       "       [0.        , 1.        ],\n",
       "       [1.        , 0.        ],\n",
       "       [1.        , 0.        ],\n",
       "       [0.        , 1.        ],\n",
       "       [1.        , 0.        ],\n",
       "       [0.23206349, 0.76793651],\n",
       "       [0.        , 1.        ],\n",
       "       [1.        , 0.        ],\n",
       "       [1.        , 0.        ],\n",
       "       [1.        , 0.        ],\n",
       "       [0.        , 1.        ],\n",
       "       [1.        , 0.        ],\n",
       "       [0.16785714, 0.83214286],\n",
       "       [0.11666667, 0.88333333],\n",
       "       [0.        , 1.        ],\n",
       "       [0.        , 1.        ],\n",
       "       [0.16785714, 0.83214286],\n",
       "       [1.        , 0.        ],\n",
       "       [0.9       , 0.1       ],\n",
       "       [1.        , 0.        ],\n",
       "       [0.        , 1.        ],\n",
       "       [0.        , 1.        ],\n",
       "       [0.40833333, 0.59166667],\n",
       "       [0.        , 1.        ],\n",
       "       [1.        , 0.        ],\n",
       "       [0.        , 1.        ],\n",
       "       [0.        , 1.        ],\n",
       "       [1.        , 0.        ],\n",
       "       [1.        , 0.        ],\n",
       "       [0.        , 1.        ],\n",
       "       [1.        , 0.        ],\n",
       "       [0.9       , 0.1       ],\n",
       "       [1.        , 0.        ],\n",
       "       [0.        , 1.        ],\n",
       "       [1.        , 0.        ],\n",
       "       [1.        , 0.        ],\n",
       "       [0.        , 1.        ],\n",
       "       [1.        , 0.        ],\n",
       "       [0.02857143, 0.97142857],\n",
       "       [1.        , 0.        ],\n",
       "       [0.1       , 0.9       ],\n",
       "       [1.        , 0.        ],\n",
       "       [0.9       , 0.1       ],\n",
       "       [0.        , 1.        ],\n",
       "       [1.        , 0.        ],\n",
       "       [0.        , 1.        ],\n",
       "       [0.86666667, 0.13333333],\n",
       "       [0.9       , 0.1       ],\n",
       "       [0.        , 1.        ],\n",
       "       [1.        , 0.        ],\n",
       "       [0.2652381 , 0.7347619 ],\n",
       "       [1.        , 0.        ],\n",
       "       [1.        , 0.        ],\n",
       "       [1.        , 0.        ],\n",
       "       [1.        , 0.        ],\n",
       "       [0.        , 1.        ],\n",
       "       [0.4       , 0.6       ],\n",
       "       [1.        , 0.        ],\n",
       "       [1.        , 0.        ],\n",
       "       [1.        , 0.        ],\n",
       "       [0.11666667, 0.88333333],\n",
       "       [0.05      , 0.95      ],\n",
       "       [1.        , 0.        ],\n",
       "       [0.        , 1.        ],\n",
       "       [0.        , 1.        ],\n",
       "       [0.9       , 0.1       ],\n",
       "       [0.        , 1.        ],\n",
       "       [0.        , 1.        ]])"
      ]
     },
     "metadata": {},
     "execution_count": 19
    }
   ],
   "source": [
    "y_pred_proba[0]"
   ]
  },
  {
   "cell_type": "code",
   "execution_count": null,
   "metadata": {},
   "outputs": [],
   "source": []
  }
 ]
}