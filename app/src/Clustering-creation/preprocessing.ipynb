{
 "metadata": {
  "language_info": {
   "codemirror_mode": {
    "name": "ipython",
    "version": 3
   },
   "file_extension": ".py",
   "mimetype": "text/x-python",
   "name": "python",
   "nbconvert_exporter": "python",
   "pygments_lexer": "ipython3",
   "version": "3.7.10"
  },
  "orig_nbformat": 2,
  "kernelspec": {
   "name": "pythonjvsc74a57bd0db33b9f7f7cfa92ad9f742d45b74c770b03f299969fa4d08d31fb7fd7d681032",
   "display_name": "Python 3.7.10 64-bit ('.venv': venv)"
  },
  "metadata": {
   "interpreter": {
    "hash": "db33b9f7f7cfa92ad9f742d45b74c770b03f299969fa4d08d31fb7fd7d681032"
   }
  }
 },
 "nbformat": 4,
 "nbformat_minor": 2,
 "cells": [
  {
   "cell_type": "code",
   "execution_count": 2,
   "metadata": {},
   "outputs": [],
   "source": [
    "import pandas as pd\n",
    "import glob\n",
    "import os\n",
    "from gensim.models.keyedvectors import KeyedVectors\n",
    "from gensim import matutils\n",
    "from sklearn.ensemble import RandomForestClassifier as classifier\n",
    "from sklearn.model_selection import train_test_split\n",
    "from collections import defaultdict"
   ]
  },
  {
   "cell_type": "code",
   "execution_count": 3,
   "metadata": {},
   "outputs": [],
   "source": [
    "files = glob.glob(os.path.join(\"../../data/result\", \"*.csv\"))\n",
    "df_list = []"
   ]
  },
  {
   "cell_type": "code",
   "execution_count": 4,
   "metadata": {},
   "outputs": [],
   "source": [
    "for file in files:\n",
    "    tmp_df = pd.read_csv(file)\n",
    "    tmp_df['filename'] = os.path.basename(file)\n",
    "    df_list.append(tmp_df)"
   ]
  },
  {
   "source": [
    "df = pd.concat(df_list, ignore_index=True)"
   ],
   "cell_type": "code",
   "metadata": {},
   "execution_count": 5,
   "outputs": []
  },
  {
   "cell_type": "code",
   "execution_count": 6,
   "metadata": {},
   "outputs": [],
   "source": [
    "# df.groupby('pred').count().sort_values(['obj'], ascending=False)[1:10]"
   ]
  },
  {
   "cell_type": "code",
   "execution_count": 7,
   "metadata": {},
   "outputs": [],
   "source": [
    "# predの要素で, propertyが含まれる値を返す\n",
    "df_prop = df.query('pred.str.contains(\"property\")', engine='python')\n",
    "top_10_df_prop = df_prop.groupby('pred').count().sort_values(['obj'], ascending=False).head(10)\n",
    "top_10_prop_list = top_10_df_prop.index.to_list()\n",
    "top_10_df = df[df['pred'].isin(top_10_prop_list)]"
   ]
  },
  {
   "cell_type": "code",
   "execution_count": 8,
   "metadata": {},
   "outputs": [],
   "source": [
    "model = KeyedVectors.load('../../Models/japanese-word2vec-model-builder/word2vec.gensim.model')"
   ]
  },
  {
   "cell_type": "code",
   "execution_count": 9,
   "metadata": {},
   "outputs": [],
   "source": [
    "def vectorize(model, word):\n",
    "    try:\n",
    "        output = model.wv[word]\n",
    "        return output\n",
    "    except:\n",
    "        return \"Null\""
   ]
  },
  {
   "cell_type": "code",
   "execution_count": 10,
   "metadata": {},
   "outputs": [],
   "source": [
    "def preprocessing(obj):\n",
    "    if type(obj) != str:\n",
    "        output = obj\n",
    "    elif len(obj.split(\"：\")) != 1:\n",
    "        output = obj.split(\"：\")[-1]\n",
    "    else:\n",
    "        output = obj.split(\"/\")[-1]\n",
    "    return output"
   ]
  },
  {
   "cell_type": "code",
   "execution_count": 12,
   "metadata": {},
   "outputs": [],
   "source": [
    "# vectorization\n",
    "cp_top_10_df = top_10_df.copy()\n",
    "cp_top_10_df['key_vec'] = cp_top_10_df['key'].map(lambda x:vectorize(model,x))\n",
    "#cp_top_10_df['label'] = cp_top_10_df['pred'].map(prop_to_label)\n",
    "obj_list = cp_top_10_df['obj'].map(lambda x:preprocessing(x))\n",
    "cp_top_10_df['obj_vec'] = obj_list.map(lambda x:vectorize(model,x))"
   ]
  },
  {
   "cell_type": "code",
   "execution_count": 18,
   "metadata": {},
   "outputs": [],
   "source": [
    "#cp_top_10_df"
   ]
  },
  {
   "cell_type": "code",
   "execution_count": 14,
   "metadata": {},
   "outputs": [],
   "source": [
    "top_10_df_vec = pd.merge(top_10_df,cp_top_10_df, left_index=True, right_on=top_10_df.index)\n",
    "top_10_df_vec = top_10_df_vec.reset_index(drop=True)"
   ]
  },
  {
   "cell_type": "code",
   "execution_count": 15,
   "metadata": {},
   "outputs": [],
   "source": [
    "top_10_df_vec = top_10_df_vec.drop([\"key_0\",\"filename_x\",\"key_y\",\"pred_y\",\"obj_y\",\"filename_y\"], axis=1)"
   ]
  },
  {
   "cell_type": "code",
   "execution_count": 24,
   "metadata": {},
   "outputs": [
    {
     "output_type": "execute_result",
     "data": {
      "text/plain": [
       "    key_x                                 pred_x  \\\n",
       "0     沖縄県   http://ja.dbpedia.org/property/after   \n",
       "1     沖縄県  http://ja.dbpedia.org/property/before   \n",
       "2     沖縄県  http://ja.dbpedia.org/property/before   \n",
       "3     沖縄県  http://ja.dbpedia.org/property/before   \n",
       "4     沖縄県   http://ja.dbpedia.org/property/years   \n",
       "..    ...                                    ...   \n",
       "645   高知県      http://ja.dbpedia.org/property/表記   \n",
       "646   高知県     http://ja.dbpedia.org/property/歌など   \n",
       "647   高知県  http://ja.dbpedia.org/property/隣接都道府県   \n",
       "648   高知県  http://ja.dbpedia.org/property/隣接都道府県   \n",
       "649   高知県  http://ja.dbpedia.org/property/隣接都道府県   \n",
       "\n",
       "                                        obj_x  \\\n",
       "0    http://ja.dbpedia.org/resource/琉球列島米国軍政府   \n",
       "1    http://ja.dbpedia.org/resource/琉球列島米国民政府   \n",
       "2         http://ja.dbpedia.org/resource/琉球政府   \n",
       "3          http://ja.dbpedia.org/resource/琉球藩   \n",
       "4                                        1879   \n",
       "..                                        ...   \n",
       "645                                         次   \n",
       "646                                   県の魚：カツオ   \n",
       "647        http://ja.dbpedia.org/resource/大分県   \n",
       "648        http://ja.dbpedia.org/resource/徳島県   \n",
       "649        http://ja.dbpedia.org/resource/愛媛県   \n",
       "\n",
       "                                               key_vec  \\\n",
       "0    [0.03427477, 0.17860307, -0.041606415, 0.09745...   \n",
       "1    [0.03427477, 0.17860307, -0.041606415, 0.09745...   \n",
       "2    [0.03427477, 0.17860307, -0.041606415, 0.09745...   \n",
       "3    [0.03427477, 0.17860307, -0.041606415, 0.09745...   \n",
       "4    [0.03427477, 0.17860307, -0.041606415, 0.09745...   \n",
       "..                                                 ...   \n",
       "645  [-0.021919195, 0.10427152, 0.04427553, 0.12341...   \n",
       "646  [-0.021919195, 0.10427152, 0.04427553, 0.12341...   \n",
       "647  [-0.021919195, 0.10427152, 0.04427553, 0.12341...   \n",
       "648  [-0.021919195, 0.10427152, 0.04427553, 0.12341...   \n",
       "649  [-0.021919195, 0.10427152, 0.04427553, 0.12341...   \n",
       "\n",
       "                                               obj_vec  \n",
       "0    [-0.13429342, -0.09761905, 0.068803005, 0.0482...  \n",
       "1    [-0.08374447, 0.07326782, -0.10170767, 0.10177...  \n",
       "2    [-0.050090242, 0.18710567, -0.044265315, 0.181...  \n",
       "3    [-0.20956942, -0.06843233, -0.041769836, -0.07...  \n",
       "4    [-0.10014486, 0.016131686, -0.15636334, 0.0958...  \n",
       "..                                                 ...  \n",
       "645  [-0.12088986, 0.10902696, -0.06065345, 0.07214...  \n",
       "646  [-0.1669918, 0.011190996, 0.08135691, 0.178282...  \n",
       "647  [0.01619406, 0.14829713, 0.05118972, 0.1368117...  \n",
       "648  [0.013457059, 0.049274415, 0.034320407, 0.1147...  \n",
       "649  [0.03236583, 0.15602386, 0.05225042, 0.1419581...  \n",
       "\n",
       "[650 rows x 5 columns]"
      ],
      "text/html": "<div>\n<style scoped>\n    .dataframe tbody tr th:only-of-type {\n        vertical-align: middle;\n    }\n\n    .dataframe tbody tr th {\n        vertical-align: top;\n    }\n\n    .dataframe thead th {\n        text-align: right;\n    }\n</style>\n<table border=\"1\" class=\"dataframe\">\n  <thead>\n    <tr style=\"text-align: right;\">\n      <th></th>\n      <th>key_x</th>\n      <th>pred_x</th>\n      <th>obj_x</th>\n      <th>key_vec</th>\n      <th>obj_vec</th>\n    </tr>\n  </thead>\n  <tbody>\n    <tr>\n      <th>0</th>\n      <td>沖縄県</td>\n      <td>http://ja.dbpedia.org/property/after</td>\n      <td>http://ja.dbpedia.org/resource/琉球列島米国軍政府</td>\n      <td>[0.03427477, 0.17860307, -0.041606415, 0.09745...</td>\n      <td>[-0.13429342, -0.09761905, 0.068803005, 0.0482...</td>\n    </tr>\n    <tr>\n      <th>1</th>\n      <td>沖縄県</td>\n      <td>http://ja.dbpedia.org/property/before</td>\n      <td>http://ja.dbpedia.org/resource/琉球列島米国民政府</td>\n      <td>[0.03427477, 0.17860307, -0.041606415, 0.09745...</td>\n      <td>[-0.08374447, 0.07326782, -0.10170767, 0.10177...</td>\n    </tr>\n    <tr>\n      <th>2</th>\n      <td>沖縄県</td>\n      <td>http://ja.dbpedia.org/property/before</td>\n      <td>http://ja.dbpedia.org/resource/琉球政府</td>\n      <td>[0.03427477, 0.17860307, -0.041606415, 0.09745...</td>\n      <td>[-0.050090242, 0.18710567, -0.044265315, 0.181...</td>\n    </tr>\n    <tr>\n      <th>3</th>\n      <td>沖縄県</td>\n      <td>http://ja.dbpedia.org/property/before</td>\n      <td>http://ja.dbpedia.org/resource/琉球藩</td>\n      <td>[0.03427477, 0.17860307, -0.041606415, 0.09745...</td>\n      <td>[-0.20956942, -0.06843233, -0.041769836, -0.07...</td>\n    </tr>\n    <tr>\n      <th>4</th>\n      <td>沖縄県</td>\n      <td>http://ja.dbpedia.org/property/years</td>\n      <td>1879</td>\n      <td>[0.03427477, 0.17860307, -0.041606415, 0.09745...</td>\n      <td>[-0.10014486, 0.016131686, -0.15636334, 0.0958...</td>\n    </tr>\n    <tr>\n      <th>...</th>\n      <td>...</td>\n      <td>...</td>\n      <td>...</td>\n      <td>...</td>\n      <td>...</td>\n    </tr>\n    <tr>\n      <th>645</th>\n      <td>高知県</td>\n      <td>http://ja.dbpedia.org/property/表記</td>\n      <td>次</td>\n      <td>[-0.021919195, 0.10427152, 0.04427553, 0.12341...</td>\n      <td>[-0.12088986, 0.10902696, -0.06065345, 0.07214...</td>\n    </tr>\n    <tr>\n      <th>646</th>\n      <td>高知県</td>\n      <td>http://ja.dbpedia.org/property/歌など</td>\n      <td>県の魚：カツオ</td>\n      <td>[-0.021919195, 0.10427152, 0.04427553, 0.12341...</td>\n      <td>[-0.1669918, 0.011190996, 0.08135691, 0.178282...</td>\n    </tr>\n    <tr>\n      <th>647</th>\n      <td>高知県</td>\n      <td>http://ja.dbpedia.org/property/隣接都道府県</td>\n      <td>http://ja.dbpedia.org/resource/大分県</td>\n      <td>[-0.021919195, 0.10427152, 0.04427553, 0.12341...</td>\n      <td>[0.01619406, 0.14829713, 0.05118972, 0.1368117...</td>\n    </tr>\n    <tr>\n      <th>648</th>\n      <td>高知県</td>\n      <td>http://ja.dbpedia.org/property/隣接都道府県</td>\n      <td>http://ja.dbpedia.org/resource/徳島県</td>\n      <td>[-0.021919195, 0.10427152, 0.04427553, 0.12341...</td>\n      <td>[0.013457059, 0.049274415, 0.034320407, 0.1147...</td>\n    </tr>\n    <tr>\n      <th>649</th>\n      <td>高知県</td>\n      <td>http://ja.dbpedia.org/property/隣接都道府県</td>\n      <td>http://ja.dbpedia.org/resource/愛媛県</td>\n      <td>[-0.021919195, 0.10427152, 0.04427553, 0.12341...</td>\n      <td>[0.03236583, 0.15602386, 0.05225042, 0.1419581...</td>\n    </tr>\n  </tbody>\n</table>\n<p>650 rows × 5 columns</p>\n</div>"
     },
     "metadata": {},
     "execution_count": 24
    }
   ],
   "source": [
    "#top_10_df_vec_exclusion_null = top_10_df_vec[top_10_df_vec['obj_vec'] != \"Null\"].reset_index(drop=True)\n",
    "top_10_df_vec_exclusion_null"
   ]
  },
  {
   "cell_type": "code",
   "execution_count": 21,
   "metadata": {},
   "outputs": [],
   "source": [
    "input_data = top_10_df_vec_exclusion_null['obj_vec'].values\n",
    "#label_data = top_10_df_vec_exclusion_null['label']"
   ]
  },
  {
   "cell_type": "code",
   "execution_count": 251,
   "metadata": {},
   "outputs": [],
   "source": [
    "X_train, X_test, y_train, y_test = train_test_split(input_data, label_data, test_size=0.4)"
   ]
  },
  {
   "cell_type": "code",
   "execution_count": 19,
   "metadata": {},
   "outputs": [],
   "source": [
    "#top_10_df_vec_exclusion_null['label']"
   ]
  },
  {
   "cell_type": "code",
   "execution_count": 253,
   "metadata": {},
   "outputs": [],
   "source": [
    "#clf = classifier(random_state=0).fit(X_train,y_train)"
   ]
  },
  {
   "cell_type": "code",
   "execution_count": null,
   "metadata": {},
   "outputs": [],
   "source": []
  }
 ]
}