{
 "cells": [
  {
   "cell_type": "markdown",
   "metadata": {},
   "source": [
    "## 予備実験3: 試作1\n",
    "- ~sampleデータを増やすような処理手順でマルチラベルを実行してみる.~\n",
    "    - ~未知語対応や, 先にword2vecでのエンべディングを実施し, 未知語を省く対応を行うなど.~\n",
    "1. predリンクの特徴量生成 + クラスタリング\n",
    "    - 試作1: word2vecをpredリンクにシンプルに実施\n",
    "    - 試作2: keyデータ + objデータのベクトルから演算することでpredリンクの特徴量生成を実施\n",
    "2. クラスタリングで先に特徴量的に近い関係リンクのまとまりを作り, sampleデータを増やす処理手順を行う\n",
    "    - 先にまとまりを作ることで, ある程度似通ったデータ同士のマルチラベル予測を実施する."
   ]
  },
  {
   "cell_type": "code",
   "execution_count": 84,
   "metadata": {
    "tags": []
   },
   "outputs": [],
   "source": [
    "import glob\n",
    "import pandas as pd\n",
    "import os\n",
    "import numpy as np\n",
    "\n",
    "from gensim.models import Word2Vec\n",
    "from sklearn.preprocessing import LabelBinarizer\n",
    "from sklearn.ensemble import RandomForestClassifier\n",
    "from sklearn.multioutput import MultiOutputClassifier"
   ]
  },
  {
   "cell_type": "code",
   "execution_count": 50,
   "metadata": {},
   "outputs": [
    {
     "data": {
      "text/plain": [
       "(56796, 3)"
      ]
     },
     "execution_count": 50,
     "metadata": {},
     "output_type": "execute_result"
    }
   ],
   "source": [
    "# data/result/に格納されている全csvファイルの読み込み\n",
    "csv_files = glob.glob(os.path.join(\"../../data/result\", \"*.csv\"))\n",
    "df_list = []\n",
    "for file in csv_files:\n",
    "    tmp_df = pd.read_csv(file)\n",
    "    df_list.append(tmp_df)\n",
    "df = pd.concat(df_list, ignore_index=True)\n",
    "df.shape"
   ]
  },
  {
   "cell_type": "code",
   "execution_count": 51,
   "metadata": {},
   "outputs": [
    {
     "data": {
      "text/plain": [
       "(2500, 3)"
      ]
     },
     "execution_count": 51,
     "metadata": {},
     "output_type": "execute_result"
    }
   ],
   "source": [
    "# predの要素で, propertyが含まれる値を返す\n",
    "df_prop = df.query('pred.str.contains(\"property\")', engine='python').dropna()\n",
    "\n",
    "# 'wikiPage'を含まないpropertyを返す\n",
    "df_prop = df_prop[~df_prop['pred'].str.contains('wikiPage')]\n",
    "\n",
    "# '画像'を含まないpropertyを返す\n",
    "df_prop = df_prop[~df_prop['pred'].str.contains('画像')]\n",
    "\n",
    "df_prop.shape"
   ]
  },
  {
   "cell_type": "code",
   "execution_count": 52,
   "metadata": {},
   "outputs": [],
   "source": [
    "# モデル読み込み\n",
    "model = Word2Vec.load('../../Models/japanese-word2vec-model-builder/word2vec.gensim.model')"
   ]
  },
  {
   "cell_type": "code",
   "execution_count": 54,
   "metadata": {},
   "outputs": [],
   "source": [
    "# モデルを利用した文字のエンべディング\n",
    "## 未知語に関しては, 今回はNaNで対応\n",
    "def vectorize(model, word):\n",
    "    try:\n",
    "        output = model.wv[word]\n",
    "        return output\n",
    "    except:\n",
    "        return np.nan"
   ]
  },
  {
   "cell_type": "code",
   "execution_count": 55,
   "metadata": {},
   "outputs": [],
   "source": [
    "# obj要素に関してはLOD同士が繋がっているため, 基本的にURIで記述されている.\n",
    "# また, (県の魚:〇〇)の要素や数値データが入っている場合もあるため, それぞれ最後尾の要素を値として扱う. \n",
    "def preprocessing(obj):\n",
    "    if type(obj) != str:\n",
    "        output = obj\n",
    "    elif len(obj.split(\"：\")) != 1:\n",
    "        output = obj.split(\"：\")[-1]\n",
    "    else:\n",
    "        output = obj.split(\"/\")[-1]\n",
    "    return output"
   ]
  },
  {
   "cell_type": "markdown",
   "metadata": {},
   "source": [
    "### 関係リンク(pred_link)を基にしたクラスタ作成を実施する."
   ]
  },
  {
   "cell_type": "code",
   "execution_count": 56,
   "metadata": {},
   "outputs": [],
   "source": [
    "# embeding\n",
    "\n",
    "cp_df_prop = df_prop.copy()\n",
    "pred_list = cp_df_prop['pred'].map(lambda x:preprocessing(x))\n",
    "cp_df_prop.loc[:,'pred_vec'] = pred_list.map(lambda x:vectorize(model, x))"
   ]
  },
  {
   "cell_type": "code",
   "execution_count": 57,
   "metadata": {},
   "outputs": [
    {
     "data": {
      "text/plain": [
       "(1521, 4)"
      ]
     },
     "execution_count": 57,
     "metadata": {},
     "output_type": "execute_result"
    }
   ],
   "source": [
    "# ベクトル化前のデータとベクトル化後のデータの結合 + 未知語のNaNの排除\n",
    "\n",
    "df_vec = pd.merge(df_prop, cp_df_prop, left_index=True, right_on=df_prop.index)\n",
    "df_vec = df_vec.drop([\"key_0\",\"key_y\",\"pred_y\",\"obj_y\"], axis=1)\n",
    "df_vec = df_vec.dropna().reset_index(drop=True)\n",
    "\n",
    "df_vec.shape"
   ]
  },
  {
   "cell_type": "markdown",
   "metadata": {},
   "source": [
    "### predリンクの特徴量からクラスタを作成していく"
   ]
  },
  {
   "cell_type": "code",
   "execution_count": 71,
   "metadata": {},
   "outputs": [],
   "source": [
    "from sklearn.cluster import KMeans\n",
    "from collections import defaultdict"
   ]
  },
  {
   "cell_type": "code",
   "execution_count": 81,
   "metadata": {},
   "outputs": [
    {
     "data": {
      "text/plain": [
       "KMeans(n_clusters=4, random_state=42)"
      ]
     },
     "execution_count": 81,
     "metadata": {},
     "output_type": "execute_result"
    }
   ],
   "source": [
    "n_clusters = 4\n",
    "kmeans_model = KMeans(n_clusters=n_clusters, random_state=42)\n",
    "kmeans_model.fit(clusters_input)"
   ]
  },
  {
   "cell_type": "code",
   "execution_count": 82,
   "metadata": {},
   "outputs": [],
   "source": [
    "cluster_labels = kmeans_model.labels_\n",
    "cluster_to_words = defaultdict(list)\n",
    "for cluster_id, word in zip(cluster_labels, df_vec.pred_x):\n",
    "    cluster_to_words[cluster_id].append(word)"
   ]
  },
  {
   "cell_type": "code",
   "execution_count": 83,
   "metadata": {},
   "outputs": [
    {
     "name": "stdout",
     "output_type": "stream",
     "text": [
      "{'http://ja.dbpedia.org/property/before', 'http://ja.dbpedia.org/property/north', 'http://ja.dbpedia.org/property/south', 'http://ja.dbpedia.org/property/name', 'http://ja.dbpedia.org/property/years', 'http://ja.dbpedia.org/property/east', 'http://ja.dbpedia.org/property/after', 'http://ja.dbpedia.org/property/label', 'http://ja.dbpedia.org/property/date', 'http://ja.dbpedia.org/property/west'}\n",
      "{'http://ja.dbpedia.org/property/float', 'http://ja.dbpedia.org/property/y', 'http://ja.dbpedia.org/property/image', 'http://ja.dbpedia.org/property/d', 'http://ja.dbpedia.org/property/x', 'http://ja.dbpedia.org/property/color', 'http://ja.dbpedia.org/property/section', 'http://ja.dbpedia.org/property/s', 'http://ja.dbpedia.org/property/q', 'http://ja.dbpedia.org/property/height', 'http://ja.dbpedia.org/property/direction', 'http://ja.dbpedia.org/property/species', 'http://ja.dbpedia.org/property/コード', 'http://ja.dbpedia.org/property/centre', 'http://ja.dbpedia.org/property/code', 'http://ja.dbpedia.org/property/content', 'http://ja.dbpedia.org/property/align', 'http://ja.dbpedia.org/property/v', 'http://ja.dbpedia.org/property/ta', 'http://ja.dbpedia.org/property/iso', 'http://ja.dbpedia.org/property/mark', 'http://ja.dbpedia.org/property/commons', 'http://ja.dbpedia.org/property/data', 'http://ja.dbpedia.org/property/thumb', 'http://ja.dbpedia.org/property/width', 'http://ja.dbpedia.org/property/wikt', 'http://ja.dbpedia.org/property/text', 'http://ja.dbpedia.org/property/b', 'http://ja.dbpedia.org/property/value', 'http://ja.dbpedia.org/property/points', 'http://ja.dbpedia.org/property/n', 'http://ja.dbpedia.org/property/scale'}\n",
      "{'http://ja.dbpedia.org/property/title', 'http://ja.dbpedia.org/property/説明', 'http://ja.dbpedia.org/property/対象', 'http://ja.dbpedia.org/property/知事', 'http://ja.dbpedia.org/property/所在地', 'http://ja.dbpedia.org/property/郵便番号', 'http://ja.dbpedia.org/property/都道府県旗', 'http://ja.dbpedia.org/property/標高', 'http://ja.dbpedia.org/property/独自研究', 'http://ja.dbpedia.org/property/副知事', 'http://ja.dbpedia.org/property/島名', 'http://ja.dbpedia.org/property/最高峰', 'http://ja.dbpedia.org/property/周囲', 'http://ja.dbpedia.org/property/範囲', 'http://ja.dbpedia.org/property/区分', 'http://ja.dbpedia.org/property/表記', 'http://ja.dbpedia.org/property/幅', 'http://ja.dbpedia.org/property/最大都市', 'http://ja.dbpedia.org/property/諸島', 'http://ja.dbpedia.org/property/面積'}\n",
      "{'http://ja.dbpedia.org/property/木', 'http://ja.dbpedia.org/property/鳥', 'http://ja.dbpedia.org/property/花'}\n"
     ]
    }
   ],
   "source": [
    "for words in cluster_to_words.values():\n",
    "    print(set(words))"
   ]
  }
 ],
 "metadata": {
  "interpreter": {
   "hash": "db33b9f7f7cfa92ad9f742d45b74c770b03f299969fa4d08d31fb7fd7d681032"
  },
  "kernelspec": {
   "display_name": "develop",
   "language": "python",
   "name": "develop"
  },
  "language_info": {
   "codemirror_mode": {
    "name": "ipython",
    "version": 3
   },
   "file_extension": ".py",
   "mimetype": "text/x-python",
   "name": "python",
   "nbconvert_exporter": "python",
   "pygments_lexer": "ipython3",
   "version": "3.7.10"
  },
  "metadata": {
   "interpreter": {
    "hash": "db33b9f7f7cfa92ad9f742d45b74c770b03f299969fa4d08d31fb7fd7d681032"
   }
  },
  "toc-autonumbering": false,
  "toc-showmarkdowntxt": false,
  "toc-showtags": true
 },
 "nbformat": 4,
 "nbformat_minor": 4
}
