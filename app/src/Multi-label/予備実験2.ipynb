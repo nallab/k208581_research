{
 "cells": [
  {
   "cell_type": "markdown",
   "metadata": {},
   "source": [
    "## 予備実験2までのnotebook"
   ]
  },
  {
   "cell_type": "code",
   "execution_count": 1,
   "metadata": {
    "tags": []
   },
   "outputs": [],
   "source": [
    "import glob\n",
    "import os\n",
    "import numpy as np\n",
    "import pandas as pd\n",
    "from gensim.models import Word2Vec\n",
    "from sklearn.metrics import accuracy_score\n",
    "from sklearn.preprocessing import LabelBinarizer\n",
    "from sklearn.ensemble import RandomForestClassifier\n",
    "from sklearn.model_selection import train_test_split\n",
    "from sklearn.multioutput import MultiOutputClassifier\n",
    "from sklearn.tree import export_graphviz\n",
    "from pydotplus import graph_from_dot_data\n",
    "from sklearn.metrics import classification_report\n",
    "\n",
    "import seaborn as sns\n",
    "import matplotlib.pyplot as plt\n",
    "import japanize_matplotlib"
   ]
  },
  {
   "cell_type": "code",
   "execution_count": 2,
   "metadata": {},
   "outputs": [],
   "source": [
    "# data/result/に格納されている全csvファイルの読み込み\n",
    "csv_files = glob.glob(os.path.join(\"../../data/result\", \"*.csv\"))\n",
    "df_list = []\n",
    "for file in csv_files:\n",
    "    tmp_df = pd.read_csv(file)\n",
    "    df_list.append(tmp_df)\n",
    "df = pd.concat(df_list, ignore_index=True)"
   ]
  },
  {
   "cell_type": "code",
   "execution_count": 3,
   "metadata": {},
   "outputs": [],
   "source": [
    "# predの要素で, propertyが含まれる値を返す\n",
    "df_prop = df.query('pred.str.contains(\"property\")', engine='python').dropna()\n",
    "\n",
    "# 'wikiPage'を含まないpropertyを返す\n",
    "df_prop = df_prop[~df_prop['pred'].str.contains('wikiPage')]\n",
    "# '画像'を含まないpropertyを返す\n",
    "df_prop = df_prop[~df_prop['pred'].str.contains('画像')]\n",
    "\n",
    "# predの頻出上位10の要素のindex_listを取得\n",
    "top_10_df_prop = df_prop.groupby('pred').count().sort_values(['obj'], ascending=False).head(10)\n",
    "top_10_prop_list = top_10_df_prop.index.to_list()\n",
    "\n",
    "# 頻出上位10を持つdataの抽出\n",
    "top_10_df = df[df['pred'].isin(top_10_prop_list)]\n",
    "\n",
    "# predを目的変数(label)として扱うための準備\n",
    "prop_to_label = dict(zip(top_10_prop_list, range(0,10)))\n",
    "column_name = dict(map(lambda k: (k[1],k[0].split(\"/\")[-1]), prop_to_label.items()))"
   ]
  },
  {
   "cell_type": "code",
   "execution_count": 4,
   "metadata": {},
   "outputs": [],
   "source": [
    "# モデル読み込み\n",
    "model = Word2Vec.load('../../Models/japanese-word2vec-model-builder/word2vec.gensim.model')"
   ]
  },
  {
   "cell_type": "code",
   "execution_count": 5,
   "metadata": {},
   "outputs": [],
   "source": [
    "# モデルを利用した文字のエンべディング\n",
    "## 未知語に関しては, 今回はNaNで対応\n",
    "def vectorize(model, word):\n",
    "    try:\n",
    "        output = model.wv[word]\n",
    "        return output\n",
    "    except:\n",
    "        return np.nan"
   ]
  },
  {
   "cell_type": "code",
   "execution_count": 6,
   "metadata": {},
   "outputs": [],
   "source": [
    "# obj要素に関してはLOD同士が繋がっているため, 基本的にURIで記述されている.\n",
    "# また, (県の魚:〇〇)の要素や数値データが入っている場合もあるため, それぞれ最後尾の要素を値として扱う. \n",
    "def preprocessing(obj):\n",
    "    if type(obj) != str:\n",
    "        output = obj\n",
    "    elif len(obj.split(\"：\")) != 1:\n",
    "        output = obj.split(\"：\")[-1]\n",
    "    else:\n",
    "        output = obj.split(\"/\")[-1]\n",
    "    return output"
   ]
  },
  {
   "cell_type": "code",
   "execution_count": 7,
   "metadata": {},
   "outputs": [
    {
     "data": {
      "text/html": [
       "<div>\n",
       "<style scoped>\n",
       "    .dataframe tbody tr th:only-of-type {\n",
       "        vertical-align: middle;\n",
       "    }\n",
       "\n",
       "    .dataframe tbody tr th {\n",
       "        vertical-align: top;\n",
       "    }\n",
       "\n",
       "    .dataframe thead th {\n",
       "        text-align: right;\n",
       "    }\n",
       "</style>\n",
       "<table border=\"1\" class=\"dataframe\">\n",
       "  <thead>\n",
       "    <tr style=\"text-align: right;\">\n",
       "      <th></th>\n",
       "      <th>key</th>\n",
       "      <th>pred</th>\n",
       "      <th>obj</th>\n",
       "    </tr>\n",
       "  </thead>\n",
       "  <tbody>\n",
       "    <tr>\n",
       "      <th>12</th>\n",
       "      <td>沖縄県</td>\n",
       "      <td>http://ja.dbpedia.org/property/after</td>\n",
       "      <td>http://ja.dbpedia.org/resource/琉球列島米国軍政府</td>\n",
       "    </tr>\n",
       "    <tr>\n",
       "      <th>13</th>\n",
       "      <td>沖縄県</td>\n",
       "      <td>http://ja.dbpedia.org/property/after</td>\n",
       "      <td>-----</td>\n",
       "    </tr>\n",
       "    <tr>\n",
       "      <th>14</th>\n",
       "      <td>沖縄県</td>\n",
       "      <td>http://ja.dbpedia.org/property/before</td>\n",
       "      <td>http://ja.dbpedia.org/resource/琉球列島米国民政府</td>\n",
       "    </tr>\n",
       "    <tr>\n",
       "      <th>15</th>\n",
       "      <td>沖縄県</td>\n",
       "      <td>http://ja.dbpedia.org/property/before</td>\n",
       "      <td>http://ja.dbpedia.org/resource/琉球政府</td>\n",
       "    </tr>\n",
       "    <tr>\n",
       "      <th>16</th>\n",
       "      <td>沖縄県</td>\n",
       "      <td>http://ja.dbpedia.org/property/before</td>\n",
       "      <td>http://ja.dbpedia.org/resource/琉球藩</td>\n",
       "    </tr>\n",
       "    <tr>\n",
       "      <th>...</th>\n",
       "      <td>...</td>\n",
       "      <td>...</td>\n",
       "      <td>...</td>\n",
       "    </tr>\n",
       "    <tr>\n",
       "      <th>56783</th>\n",
       "      <td>高知県</td>\n",
       "      <td>http://ja.dbpedia.org/property/歌など</td>\n",
       "      <td>県の歌：高知県民の歌（1953年制定）</td>\n",
       "    </tr>\n",
       "    <tr>\n",
       "      <th>56784</th>\n",
       "      <td>高知県</td>\n",
       "      <td>http://ja.dbpedia.org/property/歌など</td>\n",
       "      <td>県の魚：カツオ</td>\n",
       "    </tr>\n",
       "    <tr>\n",
       "      <th>56788</th>\n",
       "      <td>高知県</td>\n",
       "      <td>http://ja.dbpedia.org/property/隣接都道府県</td>\n",
       "      <td>http://ja.dbpedia.org/resource/大分県</td>\n",
       "    </tr>\n",
       "    <tr>\n",
       "      <th>56789</th>\n",
       "      <td>高知県</td>\n",
       "      <td>http://ja.dbpedia.org/property/隣接都道府県</td>\n",
       "      <td>http://ja.dbpedia.org/resource/徳島県</td>\n",
       "    </tr>\n",
       "    <tr>\n",
       "      <th>56790</th>\n",
       "      <td>高知県</td>\n",
       "      <td>http://ja.dbpedia.org/property/隣接都道府県</td>\n",
       "      <td>http://ja.dbpedia.org/resource/愛媛県</td>\n",
       "    </tr>\n",
       "  </tbody>\n",
       "</table>\n",
       "<p>1049 rows × 3 columns</p>\n",
       "</div>"
      ],
      "text/plain": [
       "       key                                   pred  \\\n",
       "12     沖縄県   http://ja.dbpedia.org/property/after   \n",
       "13     沖縄県   http://ja.dbpedia.org/property/after   \n",
       "14     沖縄県  http://ja.dbpedia.org/property/before   \n",
       "15     沖縄県  http://ja.dbpedia.org/property/before   \n",
       "16     沖縄県  http://ja.dbpedia.org/property/before   \n",
       "...    ...                                    ...   \n",
       "56783  高知県     http://ja.dbpedia.org/property/歌など   \n",
       "56784  高知県     http://ja.dbpedia.org/property/歌など   \n",
       "56788  高知県  http://ja.dbpedia.org/property/隣接都道府県   \n",
       "56789  高知県  http://ja.dbpedia.org/property/隣接都道府県   \n",
       "56790  高知県  http://ja.dbpedia.org/property/隣接都道府県   \n",
       "\n",
       "                                            obj  \n",
       "12     http://ja.dbpedia.org/resource/琉球列島米国軍政府  \n",
       "13                                        -----  \n",
       "14     http://ja.dbpedia.org/resource/琉球列島米国民政府  \n",
       "15          http://ja.dbpedia.org/resource/琉球政府  \n",
       "16           http://ja.dbpedia.org/resource/琉球藩  \n",
       "...                                         ...  \n",
       "56783                       県の歌：高知県民の歌（1953年制定）  \n",
       "56784                                   県の魚：カツオ  \n",
       "56788        http://ja.dbpedia.org/resource/大分県  \n",
       "56789        http://ja.dbpedia.org/resource/徳島県  \n",
       "56790        http://ja.dbpedia.org/resource/愛媛県  \n",
       "\n",
       "[1049 rows x 3 columns]"
      ]
     },
     "execution_count": 7,
     "metadata": {},
     "output_type": "execute_result"
    }
   ],
   "source": [
    "top_10_df"
   ]
  },
  {
   "cell_type": "code",
   "execution_count": 8,
   "metadata": {},
   "outputs": [],
   "source": [
    "# vectorization\n",
    "## key要素(本データでは〇〇県)は,単純エンベディング対象.\n",
    "## obj要素は, 上記の関数で整えた後に, エンベディング.\n",
    "cp_top_10_df = top_10_df.copy()\n",
    "cp_top_10_df['key_vec'] = cp_top_10_df['key'].map(lambda x:vectorize(model,x))\n",
    "cp_top_10_df['label'] = cp_top_10_df['pred'].map(prop_to_label)\n",
    "obj_list = cp_top_10_df['obj'].map(lambda x:preprocessing(x))\n",
    "cp_top_10_df['obj_vec'] = obj_list.map(lambda x:vectorize(model,x))"
   ]
  },
  {
   "cell_type": "code",
   "execution_count": 9,
   "metadata": {},
   "outputs": [],
   "source": [
    "# vectorization\n",
    "## key要素(本データでは〇〇県)は,単純エンベディング対象.\n",
    "## obj要素は, 上記の関数で整えた後に, エンベディング.\n",
    "# cp_df_prop = df_prop.copy()\n",
    "# cp_df_prop['key_vec'] = cp_df_prop['key'].map(lambda x:vectorize(model,x))\n",
    "# cp_df_prop['label'] = cp_df_prop['pred']\n",
    "# obj_list = cp_df_prop['obj'].map(lambda x:preprocessing(x))\n",
    "# cp_df_prop['obj_vec'] = obj_list.map(lambda x:vectorize(model,x))"
   ]
  },
  {
   "cell_type": "code",
   "execution_count": 10,
   "metadata": {},
   "outputs": [],
   "source": [
    "# ベクトル化前のデータとベクトル化後のデータの結合 + 未知語のNaNの排除\n",
    "top_10_df_vec = pd.merge(top_10_df,cp_top_10_df, left_index=True, right_on=top_10_df.index)\n",
    "top_10_df_vec = top_10_df_vec.reset_index(drop=True)\n",
    "top_10_df_vec = top_10_df_vec.drop([\"key_0\",\"key_y\",\"pred_y\",\"obj_y\"], axis=1)\n",
    "top_10_df_vec = top_10_df_vec.dropna().reset_index(drop=True)"
   ]
  },
  {
   "cell_type": "code",
   "execution_count": 11,
   "metadata": {},
   "outputs": [],
   "source": [
    "# ベクトル化前のデータとベクトル化後のデータの結合 + 未知語のNaNの排除\n",
    "# df_vec = pd.merge(df_prop, cp_df_prop, left_index=True, right_on=df_prop.index)\n",
    "# df_vec = df_vec.reset_index(drop=True)\n",
    "# df_vec = df_vec.drop([\"key_0\",\"key_y\",\"pred_y\",\"obj_y\"], axis=1)\n",
    "# df_vec = df_vec.dropna().reset_index(drop=True)"
   ]
  },
  {
   "cell_type": "code",
   "execution_count": 12,
   "metadata": {},
   "outputs": [],
   "source": [
    "# 目的変数のバイナライズ + 説明変数の切り出し\n",
    "lb = LabelBinarizer()\n",
    "lb.fit(top_10_df_vec.label)\n",
    "label_dence = lb.fit_transform(top_10_df_vec.label)\n",
    "input_data = list(top_10_df_vec['obj_vec'].values)\n",
    "# X_train, X_test, y_train, y_test = train_test_split(input_data, label_dence)"
   ]
  },
  {
   "cell_type": "code",
   "execution_count": 13,
   "metadata": {},
   "outputs": [],
   "source": [
    "# top_10_df_prop = df_vec.groupby('pred_x').count().sort_values(['obj_x'], ascending=False).head(10)\n",
    "# top_10_prop_list = top_10_df_prop.index.to_list()\n",
    "\n",
    "# 頻出上位10を持つdataの抽出\n",
    "# top_10_df = df_vec[df_vec['pred_x'].isin(top_10_prop_list)]\n",
    "# top_10_df = top_10_df.reset_index(drop=True)\n",
    "# \n",
    "# predを目的変数(label)として扱うための準備\n",
    "# prop_to_label = dict(zip(top_10_prop_list, range(0,10)))\n",
    "# column_name = dict(map(lambda k: (k[1],k[0].split(\"/\")[-1]), prop_to_label.items()))"
   ]
  },
  {
   "cell_type": "code",
   "execution_count": 14,
   "metadata": {},
   "outputs": [
    {
     "data": {
      "text/plain": [
       "MultiOutputClassifier(estimator=RandomForestClassifier(n_estimators=500,\n",
       "                                                       random_state=1),\n",
       "                      n_jobs=-1)"
      ]
     },
     "execution_count": 14,
     "metadata": {},
     "output_type": "execute_result"
    }
   ],
   "source": [
    "# マルチラベル分類\n",
    "forest = RandomForestClassifier(n_estimators = 500, random_state=1)\n",
    "multi_target_forest = MultiOutputClassifier(forest, n_jobs=-1)\n",
    "multi_target_forest.fit(input_data, label_dence)"
   ]
  },
  {
   "cell_type": "code",
   "execution_count": 15,
   "metadata": {
    "tags": []
   },
   "outputs": [],
   "source": [
    "estimator = multi_target_forest.estimators_\n",
    "y_pred = multi_target_forest.predict(input_data)\n",
    "y_pred_proba = multi_target_forest.predict_proba(input_data)"
   ]
  },
  {
   "cell_type": "code",
   "execution_count": 16,
   "metadata": {},
   "outputs": [
    {
     "data": {
      "text/plain": [
       "['隣接都道府県',\n",
       " 'before',\n",
       " '歌など',\n",
       " '所在地',\n",
       " '説明',\n",
       " '表記',\n",
       " 'years',\n",
       " 'after',\n",
       " 'シンボル名',\n",
       " 'title']"
      ]
     },
     "execution_count": 16,
     "metadata": {},
     "output_type": "execute_result"
    }
   ],
   "source": [
    "list(column_name.values())"
   ]
  },
  {
   "cell_type": "code",
   "execution_count": 17,
   "metadata": {},
   "outputs": [],
   "source": [
    "## 一応のclassification_report\n",
    "# cl_report = classification_report(label_dence, y_pred)\n",
    "# print(cl_report)"
   ]
  },
  {
   "cell_type": "code",
   "execution_count": 19,
   "metadata": {},
   "outputs": [],
   "source": [
    "np_pred = np.array(y_pred)\n",
    "np_proba = np.array(y_pred_proba)\n",
    "np_proba_trans = np_proba.transpose(1,0,2)"
   ]
  },
  {
   "cell_type": "code",
   "execution_count": 20,
   "metadata": {},
   "outputs": [],
   "source": [
    "# ラベル有の閾値の設定\n",
    "pred_0 = (np_proba_trans[:,:,1] > 0.0).astype(int)\n",
    "pred_1 = (np_proba_trans[:,:,1] > 0.1).astype(int)\n",
    "pred_2 = (np_proba_trans[:,:,1] > 0.2).astype(int)\n",
    "pred_3 = (np_proba_trans[:,:,1] > 0.3).astype(int)"
   ]
  },
  {
   "cell_type": "code",
   "execution_count": 21,
   "metadata": {},
   "outputs": [],
   "source": [
    "df = pd.DataFrame(np_pred)\n",
    "df_0 = pd.DataFrame(pred_0)\n",
    "df_1 = pd.DataFrame(pred_1)\n",
    "df_2 = pd.DataFrame(pred_2)\n",
    "df_3 = pd.DataFrame(pred_3)\n",
    "\n",
    "df_1_new = df_1.rename(columns=column_name)\n",
    "df_2_new = df_2.rename(columns=column_name)\n",
    "df_3_new = df_3.rename(columns=column_name)"
   ]
  },
  {
   "cell_type": "code",
   "execution_count": 22,
   "metadata": {},
   "outputs": [],
   "source": [
    "# 要素数の頻度\n",
    "# Value_count の出力方法をライブラリ見る. \n",
    "    ## indexでラベル表示を確認すると, 0が隠れているのが見えた。\n",
    "\n",
    "# df_3.value_counts().index"
   ]
  },
  {
   "cell_type": "code",
   "execution_count": 23,
   "metadata": {},
   "outputs": [],
   "source": [
    "df_pre_obj = top_10_df_vec.loc[:,['pred_x','obj_x','obj_vec']]\n",
    "# df_1_pre_obj = pd.concat([df_pre_obj,df_1_new],axis=1)\n",
    "df_2_pre_obj = pd.concat([df_pre_obj,df_2_new],axis=1)\n",
    "# df_3_pre_obj = pd.concat([df_pre_obj,df_3_new],axis=1)"
   ]
  },
  {
   "cell_type": "code",
   "execution_count": 25,
   "metadata": {},
   "outputs": [],
   "source": [
    "X_train, X_test, y_train, y_test = train_test_split(df_2_pre_obj.loc[:,:'obj_vec'], df_2_pre_obj.loc[:,'隣接都道府県':])"
   ]
  },
  {
   "cell_type": "code",
   "execution_count": 26,
   "metadata": {},
   "outputs": [
    {
     "name": "stdout",
     "output_type": "stream",
     "text": [
      "443\n",
      "443\n"
     ]
    }
   ],
   "source": [
    "print(len(X_train))\n",
    "print(len(y_train))"
   ]
  },
  {
   "cell_type": "code",
   "execution_count": 27,
   "metadata": {},
   "outputs": [
    {
     "name": "stdout",
     "output_type": "stream",
     "text": [
      "(443,)\n",
      "(443, 10)\n"
     ]
    }
   ],
   "source": [
    "print(X_train.obj_vec.values.shape)\n",
    "print(y_train.values.shape)"
   ]
  },
  {
   "cell_type": "code",
   "execution_count": 28,
   "metadata": {},
   "outputs": [
    {
     "data": {
      "text/plain": [
       "MultiOutputClassifier(estimator=RandomForestClassifier(n_estimators=500,\n",
       "                                                       random_state=1),\n",
       "                      n_jobs=-1)"
      ]
     },
     "execution_count": 28,
     "metadata": {},
     "output_type": "execute_result"
    }
   ],
   "source": [
    "# マルチラベル分類\n",
    "multi_target_forest.fit(X_train.obj_vec.values.tolist(), y_train.values)"
   ]
  },
  {
   "cell_type": "code",
   "execution_count": 29,
   "metadata": {},
   "outputs": [],
   "source": [
    "estimator = multi_target_forest.estimators_\n",
    "y_pred = multi_target_forest.predict(X_test.obj_vec.values.tolist())\n",
    "y_pred_proba = multi_target_forest.predict_proba(X_test.obj_vec.values.tolist())"
   ]
  },
  {
   "cell_type": "code",
   "execution_count": 30,
   "metadata": {
    "tags": []
   },
   "outputs": [
    {
     "data": {
      "text/plain": [
       "True"
      ]
     },
     "execution_count": 30,
     "metadata": {},
     "output_type": "execute_result"
    }
   ],
   "source": [
    "file_name = 'multi_tree.png'\n",
    "dot_data = export_graphviz(estimator[1][1],\n",
    "                class_names=list(column_name.values()), \n",
    "                filled=True, \n",
    "                rounded=True)\n",
    "\n",
    "graph = graph_from_dot_data( dot_data )\n",
    "\n",
    "graph.write_png(file_name)"
   ]
  },
  {
   "cell_type": "code",
   "execution_count": 31,
   "metadata": {},
   "outputs": [
    {
     "data": {
      "text/plain": [
       "148"
      ]
     },
     "execution_count": 31,
     "metadata": {},
     "output_type": "execute_result"
    }
   ],
   "source": [
    "len(y_test)"
   ]
  },
  {
   "cell_type": "code",
   "execution_count": 32,
   "metadata": {},
   "outputs": [],
   "source": [
    "from sklearn.metrics import recall_score, precision_score, f1_score"
   ]
  },
  {
   "cell_type": "code",
   "execution_count": 43,
   "metadata": {},
   "outputs": [],
   "source": [
    "forest = RandomForestClassifier(n_estimators = 500, random_state=1)\n",
    "multi_target_forest = MultiOutputClassifier(forest, n_jobs=-1)\n",
    "data = df_2_pre_obj.obj_vec.values.tolist()\n",
    "target = df_2_pre_obj.loc[:,'隣接都道府県':].values"
   ]
  },
  {
   "cell_type": "code",
   "execution_count": 44,
   "metadata": {},
   "outputs": [
    {
     "name": "stdout",
     "output_type": "stream",
     "text": [
      "591\n",
      "591\n"
     ]
    }
   ],
   "source": [
    "print(len(data))\n",
    "print(len(target))"
   ]
  },
  {
   "cell_type": "code",
   "execution_count": 63,
   "metadata": {},
   "outputs": [
    {
     "name": "stderr",
     "output_type": "stream",
     "text": [
      "/Users/uehararyouta/Desktop/DBpedia_access_python/.venv/lib/python3.7/site-packages/sklearn/metrics/_classification.py:1248: UndefinedMetricWarning: Precision is ill-defined and being set to 0.0 in labels with no predicted samples. Use `zero_division` parameter to control this behavior.\n",
      "  _warn_prf(average, modifier, msg_start, len(result))\n",
      "/Users/uehararyouta/Desktop/DBpedia_access_python/.venv/lib/python3.7/site-packages/sklearn/metrics/_classification.py:1248: UndefinedMetricWarning: Recall is ill-defined and being set to 0.0 in labels with no true samples. Use `zero_division` parameter to control this behavior.\n",
      "  _warn_prf(average, modifier, msg_start, len(result))\n",
      "/Users/uehararyouta/Desktop/DBpedia_access_python/.venv/lib/python3.7/site-packages/sklearn/metrics/_classification.py:1496: UndefinedMetricWarning: F-score is ill-defined and being set to 0.0 in labels with no true nor predicted samples. Use `zero_division` parameter to control this behavior.\n",
      "  average, \"true nor predicted\", 'F-score is', len(true_sum)\n",
      "/Users/uehararyouta/Desktop/DBpedia_access_python/.venv/lib/python3.7/site-packages/sklearn/metrics/_classification.py:1248: UndefinedMetricWarning: Precision is ill-defined and being set to 0.0 in labels with no predicted samples. Use `zero_division` parameter to control this behavior.\n",
      "  _warn_prf(average, modifier, msg_start, len(result))\n",
      "/Users/uehararyouta/Desktop/DBpedia_access_python/.venv/lib/python3.7/site-packages/sklearn/metrics/_classification.py:1248: UndefinedMetricWarning: Recall is ill-defined and being set to 0.0 in labels with no true samples. Use `zero_division` parameter to control this behavior.\n",
      "  _warn_prf(average, modifier, msg_start, len(result))\n",
      "/Users/uehararyouta/Desktop/DBpedia_access_python/.venv/lib/python3.7/site-packages/sklearn/metrics/_classification.py:1496: UndefinedMetricWarning: F-score is ill-defined and being set to 0.0 in labels with no true nor predicted samples. Use `zero_division` parameter to control this behavior.\n",
      "  average, \"true nor predicted\", 'F-score is', len(true_sum)\n",
      "/Users/uehararyouta/Desktop/DBpedia_access_python/.venv/lib/python3.7/site-packages/sklearn/metrics/_classification.py:1248: UndefinedMetricWarning: Precision is ill-defined and being set to 0.0 in labels with no predicted samples. Use `zero_division` parameter to control this behavior.\n",
      "  _warn_prf(average, modifier, msg_start, len(result))\n",
      "/Users/uehararyouta/Desktop/DBpedia_access_python/.venv/lib/python3.7/site-packages/sklearn/metrics/_classification.py:1248: UndefinedMetricWarning: Recall is ill-defined and being set to 0.0 in labels with no true samples. Use `zero_division` parameter to control this behavior.\n",
      "  _warn_prf(average, modifier, msg_start, len(result))\n",
      "/Users/uehararyouta/Desktop/DBpedia_access_python/.venv/lib/python3.7/site-packages/sklearn/metrics/_classification.py:1496: UndefinedMetricWarning: F-score is ill-defined and being set to 0.0 in labels with no true nor predicted samples. Use `zero_division` parameter to control this behavior.\n",
      "  average, \"true nor predicted\", 'F-score is', len(true_sum)\n",
      "/Users/uehararyouta/Desktop/DBpedia_access_python/.venv/lib/python3.7/site-packages/sklearn/metrics/_classification.py:1248: UndefinedMetricWarning: Precision is ill-defined and being set to 0.0 in labels with no predicted samples. Use `zero_division` parameter to control this behavior.\n",
      "  _warn_prf(average, modifier, msg_start, len(result))\n",
      "/Users/uehararyouta/Desktop/DBpedia_access_python/.venv/lib/python3.7/site-packages/sklearn/metrics/_classification.py:1248: UndefinedMetricWarning: Recall is ill-defined and being set to 0.0 in labels with no true samples. Use `zero_division` parameter to control this behavior.\n",
      "  _warn_prf(average, modifier, msg_start, len(result))\n",
      "/Users/uehararyouta/Desktop/DBpedia_access_python/.venv/lib/python3.7/site-packages/sklearn/metrics/_classification.py:1496: UndefinedMetricWarning: F-score is ill-defined and being set to 0.0 in labels with no true nor predicted samples. Use `zero_division` parameter to control this behavior.\n",
      "  average, \"true nor predicted\", 'F-score is', len(true_sum)\n"
     ]
    },
    {
     "name": "stdout",
     "output_type": "stream",
     "text": [
      "Cross-Validation scores: {'fit_time': array([12.30914211,  6.74028516,  7.10914898,  6.59875822,  6.4571991 ]), 'score_time': array([3.07269287, 3.10598683, 3.12462807, 3.01742601, 3.08750081]), 'test_precision_micro': array([1.        , 0.95867769, 0.98347107, 0.99186992, 0.9826087 ]), 'test_precision_macro': array([0.7       , 0.76948718, 0.8875    , 0.89230769, 0.78690476]), 'test_recall_micro': array([0.92741935, 0.93548387, 0.93700787, 0.94573643, 0.88976378]), 'test_recall_macro': array([0.63609854, 0.72309524, 0.80424242, 0.81756098, 0.66261905]), 'test_f1_micro': array([0.9623431 , 0.94693878, 0.95967742, 0.96825397, 0.9338843 ]), 'test_f1_macro': array([0.66386765, 0.73218594, 0.83765046, 0.84162257, 0.71098735])}\n"
     ]
    },
    {
     "name": "stderr",
     "output_type": "stream",
     "text": [
      "/Users/uehararyouta/Desktop/DBpedia_access_python/.venv/lib/python3.7/site-packages/sklearn/metrics/_classification.py:1248: UndefinedMetricWarning: Precision is ill-defined and being set to 0.0 in labels with no predicted samples. Use `zero_division` parameter to control this behavior.\n",
      "  _warn_prf(average, modifier, msg_start, len(result))\n",
      "/Users/uehararyouta/Desktop/DBpedia_access_python/.venv/lib/python3.7/site-packages/sklearn/metrics/_classification.py:1248: UndefinedMetricWarning: Recall is ill-defined and being set to 0.0 in labels with no true samples. Use `zero_division` parameter to control this behavior.\n",
      "  _warn_prf(average, modifier, msg_start, len(result))\n",
      "/Users/uehararyouta/Desktop/DBpedia_access_python/.venv/lib/python3.7/site-packages/sklearn/metrics/_classification.py:1496: UndefinedMetricWarning: F-score is ill-defined and being set to 0.0 in labels with no true nor predicted samples. Use `zero_division` parameter to control this behavior.\n",
      "  average, \"true nor predicted\", 'F-score is', len(true_sum)\n"
     ]
    }
   ],
   "source": [
    "from sklearn.model_selection import cross_validate, KFold\n",
    "kf = KFold(n_splits=5,\n",
    "            shuffle=True,\n",
    "            random_state=0)\n",
    "\n",
    "# 交差検証\n",
    "score_ring = ['precision_micro','precision_macro',\n",
    "              'recall_micro', 'recall_macro',\n",
    "              'f1_micro','f1_macro']\n",
    "\n",
    "scores = cross_validate(multi_target_forest, data, target, cv=kf, scoring=score_ring)\n",
    "# 各分割におけるスコア\n",
    "print('Cross-Validation scores: {}'.format(scores))\n",
    "# スコアの平均値\n",
    "# import numpy as np\n",
    "# print('Average score: {}'.format(np.mean(scores)))"
   ]
  },
  {
   "cell_type": "code",
   "execution_count": 65,
   "metadata": {},
   "outputs": [
    {
     "name": "stdout",
     "output_type": "stream",
     "text": [
      "0.9833254749363878 0.8072399267399266\n",
      "0.927082262691657 0.7287232455094722\n",
      "0.9542195113747963 0.7572627939074765\n"
     ]
    }
   ],
   "source": [
    "micro = np.mean(scores['test_precision_micro'])\n",
    "macro = np.mean(scores['test_precision_macro'])\n",
    "print(micro, macro)\n",
    "\n",
    "micro = np.mean(scores['test_recall_micro'])\n",
    "macro = np.mean(scores['test_recall_macro'])\n",
    "print(micro, macro)\n",
    "\n",
    "micro = np.mean(scores['test_f1_micro'])\n",
    "macro = np.mean(scores['test_f1_macro'])\n",
    "print(micro, macro)"
   ]
  },
  {
   "cell_type": "code",
   "execution_count": 50,
   "metadata": {},
   "outputs": [
    {
     "name": "stdout",
     "output_type": "stream",
     "text": [
      "0.88125\n",
      "0.986013986013986\n",
      "0.9306930693069307\n"
     ]
    }
   ],
   "source": [
    "average = \"micro\"\n",
    "\n",
    "# Recallの平均\n",
    "print(recall_score(y_true=y_test, y_pred=y_pred, average=average))\n",
    "\n",
    "# Recallの平均\n",
    "print(precision_score(y_true=y_test, y_pred=y_pred, average=average))\n",
    "# -> 0.875\n",
    "\n",
    "# macro-F1\n",
    "print(f1_score(y_true=y_test, y_pred=y_pred, average=average))\n",
    "# -> 0.9333333333333333"
   ]
  },
  {
   "cell_type": "code",
   "execution_count": 33,
   "metadata": {},
   "outputs": [
    {
     "name": "stdout",
     "output_type": "stream",
     "text": [
      "              precision    recall  f1-score   support\n",
      "\n",
      "           0       1.00      0.96      0.98        51\n",
      "           1       0.96      0.89      0.93        28\n",
      "           2       1.00      0.38      0.55         8\n",
      "           3       1.00      0.92      0.96        13\n",
      "           4       0.94      0.83      0.88        18\n",
      "           5       1.00      1.00      1.00        22\n",
      "           6       1.00      1.00      1.00        14\n",
      "           7       1.00      0.20      0.33         5\n",
      "           8       0.00      0.00      0.00         0\n",
      "           9       0.00      0.00      0.00         1\n",
      "\n",
      "   micro avg       0.99      0.88      0.93       160\n",
      "   macro avg       0.79      0.62      0.66       160\n",
      "weighted avg       0.98      0.88      0.91       160\n",
      " samples avg       0.91      0.89      0.90       160\n",
      "\n"
     ]
    },
    {
     "name": "stderr",
     "output_type": "stream",
     "text": [
      "/Users/uehararyouta/Desktop/DBpedia_access_python/.venv/lib/python3.7/site-packages/sklearn/metrics/_classification.py:1248: UndefinedMetricWarning: Precision and F-score are ill-defined and being set to 0.0 in labels with no predicted samples. Use `zero_division` parameter to control this behavior.\n",
      "  _warn_prf(average, modifier, msg_start, len(result))\n",
      "/Users/uehararyouta/Desktop/DBpedia_access_python/.venv/lib/python3.7/site-packages/sklearn/metrics/_classification.py:1248: UndefinedMetricWarning: Recall and F-score are ill-defined and being set to 0.0 in labels with no true samples. Use `zero_division` parameter to control this behavior.\n",
      "  _warn_prf(average, modifier, msg_start, len(result))\n",
      "/Users/uehararyouta/Desktop/DBpedia_access_python/.venv/lib/python3.7/site-packages/sklearn/metrics/_classification.py:1248: UndefinedMetricWarning: Precision and F-score are ill-defined and being set to 0.0 in samples with no predicted labels. Use `zero_division` parameter to control this behavior.\n",
      "  _warn_prf(average, modifier, msg_start, len(result))\n"
     ]
    }
   ],
   "source": [
    "## 一応のclassification_report\n",
    "cl_report = classification_report(y_test, y_pred)\n",
    "print(cl_report)"
   ]
  },
  {
   "cell_type": "code",
   "execution_count": 34,
   "metadata": {},
   "outputs": [],
   "source": [
    "np_pred = np.array(y_pred)\n",
    "# np_proba = np.array(y_pred_proba)\n",
    "# np_proba_trans = np_proba.transpose(1,0,2)"
   ]
  },
  {
   "cell_type": "code",
   "execution_count": 35,
   "metadata": {},
   "outputs": [],
   "source": [
    "pred_df = pd.DataFrame(np_pred)\n",
    "pred_df_new = pred_df.rename(columns=column_name)"
   ]
  },
  {
   "cell_type": "code",
   "execution_count": 36,
   "metadata": {},
   "outputs": [],
   "source": [
    "y_test.columns = y_test.columns + '_01'\n",
    "test_df = pd.concat([X_test, y_test], axis=1).reset_index(drop=True)"
   ]
  },
  {
   "cell_type": "code",
   "execution_count": 38,
   "metadata": {},
   "outputs": [],
   "source": [
    "test_pred_df = pd.concat([test_df,pred_df_new], axis=1)"
   ]
  },
  {
   "cell_type": "code",
   "execution_count": 39,
   "metadata": {},
   "outputs": [
    {
     "data": {
      "text/html": [
       "<div>\n",
       "<style scoped>\n",
       "    .dataframe tbody tr th:only-of-type {\n",
       "        vertical-align: middle;\n",
       "    }\n",
       "\n",
       "    .dataframe tbody tr th {\n",
       "        vertical-align: top;\n",
       "    }\n",
       "\n",
       "    .dataframe thead th {\n",
       "        text-align: right;\n",
       "    }\n",
       "</style>\n",
       "<table border=\"1\" class=\"dataframe\">\n",
       "  <thead>\n",
       "    <tr style=\"text-align: right;\">\n",
       "      <th></th>\n",
       "      <th>pred_x</th>\n",
       "      <th>obj_x</th>\n",
       "      <th>obj_vec</th>\n",
       "      <th>隣接都道府県_01</th>\n",
       "      <th>before_01</th>\n",
       "      <th>歌など_01</th>\n",
       "      <th>所在地_01</th>\n",
       "      <th>説明_01</th>\n",
       "      <th>表記_01</th>\n",
       "      <th>years_01</th>\n",
       "      <th>...</th>\n",
       "      <th>隣接都道府県</th>\n",
       "      <th>before</th>\n",
       "      <th>歌など</th>\n",
       "      <th>所在地</th>\n",
       "      <th>説明</th>\n",
       "      <th>表記</th>\n",
       "      <th>years</th>\n",
       "      <th>after</th>\n",
       "      <th>シンボル名</th>\n",
       "      <th>title</th>\n",
       "    </tr>\n",
       "  </thead>\n",
       "  <tbody>\n",
       "    <tr>\n",
       "      <th>2</th>\n",
       "      <td>http://ja.dbpedia.org/property/隣接都道府県</td>\n",
       "      <td>http://ja.dbpedia.org/resource/能登半島</td>\n",
       "      <td>[0.020314734, 0.20471144, -0.03847818, 0.14281...</td>\n",
       "      <td>1</td>\n",
       "      <td>0</td>\n",
       "      <td>0</td>\n",
       "      <td>0</td>\n",
       "      <td>1</td>\n",
       "      <td>0</td>\n",
       "      <td>0</td>\n",
       "      <td>...</td>\n",
       "      <td>0</td>\n",
       "      <td>0</td>\n",
       "      <td>0</td>\n",
       "      <td>0</td>\n",
       "      <td>1</td>\n",
       "      <td>0</td>\n",
       "      <td>0</td>\n",
       "      <td>0</td>\n",
       "      <td>0</td>\n",
       "      <td>0</td>\n",
       "    </tr>\n",
       "    <tr>\n",
       "      <th>12</th>\n",
       "      <td>http://ja.dbpedia.org/property/before</td>\n",
       "      <td>http://ja.dbpedia.org/resource/高知県</td>\n",
       "      <td>[-0.021919195, 0.10427152, 0.04427553, 0.12341...</td>\n",
       "      <td>1</td>\n",
       "      <td>1</td>\n",
       "      <td>0</td>\n",
       "      <td>0</td>\n",
       "      <td>0</td>\n",
       "      <td>0</td>\n",
       "      <td>0</td>\n",
       "      <td>...</td>\n",
       "      <td>1</td>\n",
       "      <td>1</td>\n",
       "      <td>0</td>\n",
       "      <td>0</td>\n",
       "      <td>0</td>\n",
       "      <td>0</td>\n",
       "      <td>0</td>\n",
       "      <td>0</td>\n",
       "      <td>0</td>\n",
       "      <td>0</td>\n",
       "    </tr>\n",
       "    <tr>\n",
       "      <th>13</th>\n",
       "      <td>http://ja.dbpedia.org/property/隣接都道府県</td>\n",
       "      <td>http://ja.dbpedia.org/resource/高知県</td>\n",
       "      <td>[-0.021919195, 0.10427152, 0.04427553, 0.12341...</td>\n",
       "      <td>1</td>\n",
       "      <td>1</td>\n",
       "      <td>0</td>\n",
       "      <td>0</td>\n",
       "      <td>0</td>\n",
       "      <td>0</td>\n",
       "      <td>0</td>\n",
       "      <td>...</td>\n",
       "      <td>1</td>\n",
       "      <td>1</td>\n",
       "      <td>0</td>\n",
       "      <td>0</td>\n",
       "      <td>0</td>\n",
       "      <td>0</td>\n",
       "      <td>0</td>\n",
       "      <td>0</td>\n",
       "      <td>0</td>\n",
       "      <td>0</td>\n",
       "    </tr>\n",
       "    <tr>\n",
       "      <th>21</th>\n",
       "      <td>http://ja.dbpedia.org/property/after</td>\n",
       "      <td>http://ja.dbpedia.org/resource/新川県</td>\n",
       "      <td>[-0.022987725, -0.05611024, -0.12044697, 0.021...</td>\n",
       "      <td>0</td>\n",
       "      <td>1</td>\n",
       "      <td>0</td>\n",
       "      <td>0</td>\n",
       "      <td>0</td>\n",
       "      <td>0</td>\n",
       "      <td>0</td>\n",
       "      <td>...</td>\n",
       "      <td>0</td>\n",
       "      <td>1</td>\n",
       "      <td>0</td>\n",
       "      <td>0</td>\n",
       "      <td>0</td>\n",
       "      <td>0</td>\n",
       "      <td>0</td>\n",
       "      <td>0</td>\n",
       "      <td>0</td>\n",
       "      <td>0</td>\n",
       "    </tr>\n",
       "    <tr>\n",
       "      <th>24</th>\n",
       "      <td>http://ja.dbpedia.org/property/隣接都道府県</td>\n",
       "      <td>http://ja.dbpedia.org/resource/石川県</td>\n",
       "      <td>[-0.031856198, 0.120232046, 0.12296562, 0.0831...</td>\n",
       "      <td>1</td>\n",
       "      <td>1</td>\n",
       "      <td>0</td>\n",
       "      <td>0</td>\n",
       "      <td>0</td>\n",
       "      <td>0</td>\n",
       "      <td>0</td>\n",
       "      <td>...</td>\n",
       "      <td>1</td>\n",
       "      <td>1</td>\n",
       "      <td>0</td>\n",
       "      <td>0</td>\n",
       "      <td>0</td>\n",
       "      <td>0</td>\n",
       "      <td>0</td>\n",
       "      <td>0</td>\n",
       "      <td>0</td>\n",
       "      <td>0</td>\n",
       "    </tr>\n",
       "    <tr>\n",
       "      <th>58</th>\n",
       "      <td>http://ja.dbpedia.org/property/after</td>\n",
       "      <td>http://ja.dbpedia.org/resource/江戸川</td>\n",
       "      <td>[0.081049874, 0.18472259, -0.08038298, 0.08492...</td>\n",
       "      <td>0</td>\n",
       "      <td>0</td>\n",
       "      <td>0</td>\n",
       "      <td>0</td>\n",
       "      <td>1</td>\n",
       "      <td>0</td>\n",
       "      <td>0</td>\n",
       "      <td>...</td>\n",
       "      <td>0</td>\n",
       "      <td>0</td>\n",
       "      <td>0</td>\n",
       "      <td>0</td>\n",
       "      <td>1</td>\n",
       "      <td>0</td>\n",
       "      <td>0</td>\n",
       "      <td>0</td>\n",
       "      <td>0</td>\n",
       "      <td>0</td>\n",
       "    </tr>\n",
       "    <tr>\n",
       "      <th>59</th>\n",
       "      <td>http://ja.dbpedia.org/property/説明</td>\n",
       "      <td>http://ja.dbpedia.org/resource/法華経寺</td>\n",
       "      <td>[0.037549566, 0.095200725, 0.07064349, 0.07455...</td>\n",
       "      <td>0</td>\n",
       "      <td>1</td>\n",
       "      <td>0</td>\n",
       "      <td>0</td>\n",
       "      <td>1</td>\n",
       "      <td>0</td>\n",
       "      <td>0</td>\n",
       "      <td>...</td>\n",
       "      <td>0</td>\n",
       "      <td>1</td>\n",
       "      <td>0</td>\n",
       "      <td>0</td>\n",
       "      <td>0</td>\n",
       "      <td>0</td>\n",
       "      <td>0</td>\n",
       "      <td>0</td>\n",
       "      <td>0</td>\n",
       "      <td>0</td>\n",
       "    </tr>\n",
       "    <tr>\n",
       "      <th>60</th>\n",
       "      <td>http://ja.dbpedia.org/property/before</td>\n",
       "      <td>http://ja.dbpedia.org/resource/石川県</td>\n",
       "      <td>[-0.031856198, 0.120232046, 0.12296562, 0.0831...</td>\n",
       "      <td>1</td>\n",
       "      <td>1</td>\n",
       "      <td>0</td>\n",
       "      <td>0</td>\n",
       "      <td>0</td>\n",
       "      <td>0</td>\n",
       "      <td>0</td>\n",
       "      <td>...</td>\n",
       "      <td>1</td>\n",
       "      <td>1</td>\n",
       "      <td>0</td>\n",
       "      <td>0</td>\n",
       "      <td>0</td>\n",
       "      <td>0</td>\n",
       "      <td>0</td>\n",
       "      <td>0</td>\n",
       "      <td>0</td>\n",
       "      <td>0</td>\n",
       "    </tr>\n",
       "    <tr>\n",
       "      <th>77</th>\n",
       "      <td>http://ja.dbpedia.org/property/title</td>\n",
       "      <td>http://ja.dbpedia.org/resource/日本の首都</td>\n",
       "      <td>[0.059102356, 0.29593015, -0.1518349, 0.178942...</td>\n",
       "      <td>0</td>\n",
       "      <td>0</td>\n",
       "      <td>0</td>\n",
       "      <td>0</td>\n",
       "      <td>1</td>\n",
       "      <td>0</td>\n",
       "      <td>0</td>\n",
       "      <td>...</td>\n",
       "      <td>0</td>\n",
       "      <td>0</td>\n",
       "      <td>0</td>\n",
       "      <td>0</td>\n",
       "      <td>1</td>\n",
       "      <td>0</td>\n",
       "      <td>0</td>\n",
       "      <td>0</td>\n",
       "      <td>0</td>\n",
       "      <td>0</td>\n",
       "    </tr>\n",
       "    <tr>\n",
       "      <th>83</th>\n",
       "      <td>http://ja.dbpedia.org/property/隣接都道府県</td>\n",
       "      <td>http://ja.dbpedia.org/resource/鹿児島県</td>\n",
       "      <td>[-0.025638053, 0.111953475, 0.030292727, 0.164...</td>\n",
       "      <td>1</td>\n",
       "      <td>0</td>\n",
       "      <td>0</td>\n",
       "      <td>0</td>\n",
       "      <td>0</td>\n",
       "      <td>0</td>\n",
       "      <td>0</td>\n",
       "      <td>...</td>\n",
       "      <td>1</td>\n",
       "      <td>0</td>\n",
       "      <td>0</td>\n",
       "      <td>0</td>\n",
       "      <td>0</td>\n",
       "      <td>0</td>\n",
       "      <td>0</td>\n",
       "      <td>1</td>\n",
       "      <td>0</td>\n",
       "      <td>0</td>\n",
       "    </tr>\n",
       "    <tr>\n",
       "      <th>90</th>\n",
       "      <td>http://ja.dbpedia.org/property/隣接都道府県</td>\n",
       "      <td>http://ja.dbpedia.org/resource/高知県</td>\n",
       "      <td>[-0.021919195, 0.10427152, 0.04427553, 0.12341...</td>\n",
       "      <td>1</td>\n",
       "      <td>1</td>\n",
       "      <td>0</td>\n",
       "      <td>0</td>\n",
       "      <td>0</td>\n",
       "      <td>0</td>\n",
       "      <td>0</td>\n",
       "      <td>...</td>\n",
       "      <td>1</td>\n",
       "      <td>1</td>\n",
       "      <td>0</td>\n",
       "      <td>0</td>\n",
       "      <td>0</td>\n",
       "      <td>0</td>\n",
       "      <td>0</td>\n",
       "      <td>0</td>\n",
       "      <td>0</td>\n",
       "      <td>0</td>\n",
       "    </tr>\n",
       "    <tr>\n",
       "      <th>91</th>\n",
       "      <td>http://ja.dbpedia.org/property/after</td>\n",
       "      <td>http://ja.dbpedia.org/resource/肥前国</td>\n",
       "      <td>[-0.050357793, 0.06887484, 0.04031938, 0.22777...</td>\n",
       "      <td>0</td>\n",
       "      <td>1</td>\n",
       "      <td>0</td>\n",
       "      <td>0</td>\n",
       "      <td>0</td>\n",
       "      <td>0</td>\n",
       "      <td>0</td>\n",
       "      <td>...</td>\n",
       "      <td>0</td>\n",
       "      <td>1</td>\n",
       "      <td>0</td>\n",
       "      <td>0</td>\n",
       "      <td>0</td>\n",
       "      <td>0</td>\n",
       "      <td>0</td>\n",
       "      <td>0</td>\n",
       "      <td>0</td>\n",
       "      <td>0</td>\n",
       "    </tr>\n",
       "  </tbody>\n",
       "</table>\n",
       "<p>12 rows × 23 columns</p>\n",
       "</div>"
      ],
      "text/plain": [
       "                                   pred_x  \\\n",
       "2   http://ja.dbpedia.org/property/隣接都道府県   \n",
       "12  http://ja.dbpedia.org/property/before   \n",
       "13  http://ja.dbpedia.org/property/隣接都道府県   \n",
       "21   http://ja.dbpedia.org/property/after   \n",
       "24  http://ja.dbpedia.org/property/隣接都道府県   \n",
       "58   http://ja.dbpedia.org/property/after   \n",
       "59      http://ja.dbpedia.org/property/説明   \n",
       "60  http://ja.dbpedia.org/property/before   \n",
       "77   http://ja.dbpedia.org/property/title   \n",
       "83  http://ja.dbpedia.org/property/隣接都道府県   \n",
       "90  http://ja.dbpedia.org/property/隣接都道府県   \n",
       "91   http://ja.dbpedia.org/property/after   \n",
       "\n",
       "                                   obj_x  \\\n",
       "2    http://ja.dbpedia.org/resource/能登半島   \n",
       "12    http://ja.dbpedia.org/resource/高知県   \n",
       "13    http://ja.dbpedia.org/resource/高知県   \n",
       "21    http://ja.dbpedia.org/resource/新川県   \n",
       "24    http://ja.dbpedia.org/resource/石川県   \n",
       "58    http://ja.dbpedia.org/resource/江戸川   \n",
       "59   http://ja.dbpedia.org/resource/法華経寺   \n",
       "60    http://ja.dbpedia.org/resource/石川県   \n",
       "77  http://ja.dbpedia.org/resource/日本の首都   \n",
       "83   http://ja.dbpedia.org/resource/鹿児島県   \n",
       "90    http://ja.dbpedia.org/resource/高知県   \n",
       "91    http://ja.dbpedia.org/resource/肥前国   \n",
       "\n",
       "                                              obj_vec  隣接都道府県_01  before_01  \\\n",
       "2   [0.020314734, 0.20471144, -0.03847818, 0.14281...          1          0   \n",
       "12  [-0.021919195, 0.10427152, 0.04427553, 0.12341...          1          1   \n",
       "13  [-0.021919195, 0.10427152, 0.04427553, 0.12341...          1          1   \n",
       "21  [-0.022987725, -0.05611024, -0.12044697, 0.021...          0          1   \n",
       "24  [-0.031856198, 0.120232046, 0.12296562, 0.0831...          1          1   \n",
       "58  [0.081049874, 0.18472259, -0.08038298, 0.08492...          0          0   \n",
       "59  [0.037549566, 0.095200725, 0.07064349, 0.07455...          0          1   \n",
       "60  [-0.031856198, 0.120232046, 0.12296562, 0.0831...          1          1   \n",
       "77  [0.059102356, 0.29593015, -0.1518349, 0.178942...          0          0   \n",
       "83  [-0.025638053, 0.111953475, 0.030292727, 0.164...          1          0   \n",
       "90  [-0.021919195, 0.10427152, 0.04427553, 0.12341...          1          1   \n",
       "91  [-0.050357793, 0.06887484, 0.04031938, 0.22777...          0          1   \n",
       "\n",
       "    歌など_01  所在地_01  説明_01  表記_01  years_01  ...  隣接都道府県  before  歌など  所在地  説明  \\\n",
       "2        0       0      1      0         0  ...       0       0    0    0   1   \n",
       "12       0       0      0      0         0  ...       1       1    0    0   0   \n",
       "13       0       0      0      0         0  ...       1       1    0    0   0   \n",
       "21       0       0      0      0         0  ...       0       1    0    0   0   \n",
       "24       0       0      0      0         0  ...       1       1    0    0   0   \n",
       "58       0       0      1      0         0  ...       0       0    0    0   1   \n",
       "59       0       0      1      0         0  ...       0       1    0    0   0   \n",
       "60       0       0      0      0         0  ...       1       1    0    0   0   \n",
       "77       0       0      1      0         0  ...       0       0    0    0   1   \n",
       "83       0       0      0      0         0  ...       1       0    0    0   0   \n",
       "90       0       0      0      0         0  ...       1       1    0    0   0   \n",
       "91       0       0      0      0         0  ...       0       1    0    0   0   \n",
       "\n",
       "    表記  years  after  シンボル名  title  \n",
       "2    0      0      0      0      0  \n",
       "12   0      0      0      0      0  \n",
       "13   0      0      0      0      0  \n",
       "21   0      0      0      0      0  \n",
       "24   0      0      0      0      0  \n",
       "58   0      0      0      0      0  \n",
       "59   0      0      0      0      0  \n",
       "60   0      0      0      0      0  \n",
       "77   0      0      0      0      0  \n",
       "83   0      0      1      0      0  \n",
       "90   0      0      0      0      0  \n",
       "91   0      0      0      0      0  \n",
       "\n",
       "[12 rows x 23 columns]"
      ]
     },
     "execution_count": 39,
     "metadata": {},
     "output_type": "execute_result"
    }
   ],
   "source": [
    "test_pred_df[test_pred_df.loc[:,'隣接都道府県_01':'title_01'].sum(axis=1) > 1]"
   ]
  },
  {
   "cell_type": "code",
   "execution_count": 40,
   "metadata": {},
   "outputs": [
    {
     "data": {
      "text/html": [
       "<div>\n",
       "<style scoped>\n",
       "    .dataframe tbody tr th:only-of-type {\n",
       "        vertical-align: middle;\n",
       "    }\n",
       "\n",
       "    .dataframe tbody tr th {\n",
       "        vertical-align: top;\n",
       "    }\n",
       "\n",
       "    .dataframe thead th {\n",
       "        text-align: right;\n",
       "    }\n",
       "</style>\n",
       "<table border=\"1\" class=\"dataframe\">\n",
       "  <thead>\n",
       "    <tr style=\"text-align: right;\">\n",
       "      <th></th>\n",
       "      <th>pred_x</th>\n",
       "      <th>obj_x</th>\n",
       "      <th>obj_vec</th>\n",
       "      <th>隣接都道府県_01</th>\n",
       "      <th>before_01</th>\n",
       "      <th>歌など_01</th>\n",
       "      <th>所在地_01</th>\n",
       "      <th>説明_01</th>\n",
       "      <th>表記_01</th>\n",
       "      <th>years_01</th>\n",
       "      <th>...</th>\n",
       "      <th>隣接都道府県</th>\n",
       "      <th>before</th>\n",
       "      <th>歌など</th>\n",
       "      <th>所在地</th>\n",
       "      <th>説明</th>\n",
       "      <th>表記</th>\n",
       "      <th>years</th>\n",
       "      <th>after</th>\n",
       "      <th>シンボル名</th>\n",
       "      <th>title</th>\n",
       "    </tr>\n",
       "  </thead>\n",
       "  <tbody>\n",
       "    <tr>\n",
       "      <th>12</th>\n",
       "      <td>http://ja.dbpedia.org/property/before</td>\n",
       "      <td>http://ja.dbpedia.org/resource/高知県</td>\n",
       "      <td>[-0.021919195, 0.10427152, 0.04427553, 0.12341...</td>\n",
       "      <td>1</td>\n",
       "      <td>1</td>\n",
       "      <td>0</td>\n",
       "      <td>0</td>\n",
       "      <td>0</td>\n",
       "      <td>0</td>\n",
       "      <td>0</td>\n",
       "      <td>...</td>\n",
       "      <td>1</td>\n",
       "      <td>1</td>\n",
       "      <td>0</td>\n",
       "      <td>0</td>\n",
       "      <td>0</td>\n",
       "      <td>0</td>\n",
       "      <td>0</td>\n",
       "      <td>0</td>\n",
       "      <td>0</td>\n",
       "      <td>0</td>\n",
       "    </tr>\n",
       "    <tr>\n",
       "      <th>13</th>\n",
       "      <td>http://ja.dbpedia.org/property/隣接都道府県</td>\n",
       "      <td>http://ja.dbpedia.org/resource/高知県</td>\n",
       "      <td>[-0.021919195, 0.10427152, 0.04427553, 0.12341...</td>\n",
       "      <td>1</td>\n",
       "      <td>1</td>\n",
       "      <td>0</td>\n",
       "      <td>0</td>\n",
       "      <td>0</td>\n",
       "      <td>0</td>\n",
       "      <td>0</td>\n",
       "      <td>...</td>\n",
       "      <td>1</td>\n",
       "      <td>1</td>\n",
       "      <td>0</td>\n",
       "      <td>0</td>\n",
       "      <td>0</td>\n",
       "      <td>0</td>\n",
       "      <td>0</td>\n",
       "      <td>0</td>\n",
       "      <td>0</td>\n",
       "      <td>0</td>\n",
       "    </tr>\n",
       "    <tr>\n",
       "      <th>24</th>\n",
       "      <td>http://ja.dbpedia.org/property/隣接都道府県</td>\n",
       "      <td>http://ja.dbpedia.org/resource/石川県</td>\n",
       "      <td>[-0.031856198, 0.120232046, 0.12296562, 0.0831...</td>\n",
       "      <td>1</td>\n",
       "      <td>1</td>\n",
       "      <td>0</td>\n",
       "      <td>0</td>\n",
       "      <td>0</td>\n",
       "      <td>0</td>\n",
       "      <td>0</td>\n",
       "      <td>...</td>\n",
       "      <td>1</td>\n",
       "      <td>1</td>\n",
       "      <td>0</td>\n",
       "      <td>0</td>\n",
       "      <td>0</td>\n",
       "      <td>0</td>\n",
       "      <td>0</td>\n",
       "      <td>0</td>\n",
       "      <td>0</td>\n",
       "      <td>0</td>\n",
       "    </tr>\n",
       "    <tr>\n",
       "      <th>60</th>\n",
       "      <td>http://ja.dbpedia.org/property/before</td>\n",
       "      <td>http://ja.dbpedia.org/resource/石川県</td>\n",
       "      <td>[-0.031856198, 0.120232046, 0.12296562, 0.0831...</td>\n",
       "      <td>1</td>\n",
       "      <td>1</td>\n",
       "      <td>0</td>\n",
       "      <td>0</td>\n",
       "      <td>0</td>\n",
       "      <td>0</td>\n",
       "      <td>0</td>\n",
       "      <td>...</td>\n",
       "      <td>1</td>\n",
       "      <td>1</td>\n",
       "      <td>0</td>\n",
       "      <td>0</td>\n",
       "      <td>0</td>\n",
       "      <td>0</td>\n",
       "      <td>0</td>\n",
       "      <td>0</td>\n",
       "      <td>0</td>\n",
       "      <td>0</td>\n",
       "    </tr>\n",
       "    <tr>\n",
       "      <th>83</th>\n",
       "      <td>http://ja.dbpedia.org/property/隣接都道府県</td>\n",
       "      <td>http://ja.dbpedia.org/resource/鹿児島県</td>\n",
       "      <td>[-0.025638053, 0.111953475, 0.030292727, 0.164...</td>\n",
       "      <td>1</td>\n",
       "      <td>0</td>\n",
       "      <td>0</td>\n",
       "      <td>0</td>\n",
       "      <td>0</td>\n",
       "      <td>0</td>\n",
       "      <td>0</td>\n",
       "      <td>...</td>\n",
       "      <td>1</td>\n",
       "      <td>0</td>\n",
       "      <td>0</td>\n",
       "      <td>0</td>\n",
       "      <td>0</td>\n",
       "      <td>0</td>\n",
       "      <td>0</td>\n",
       "      <td>1</td>\n",
       "      <td>0</td>\n",
       "      <td>0</td>\n",
       "    </tr>\n",
       "    <tr>\n",
       "      <th>90</th>\n",
       "      <td>http://ja.dbpedia.org/property/隣接都道府県</td>\n",
       "      <td>http://ja.dbpedia.org/resource/高知県</td>\n",
       "      <td>[-0.021919195, 0.10427152, 0.04427553, 0.12341...</td>\n",
       "      <td>1</td>\n",
       "      <td>1</td>\n",
       "      <td>0</td>\n",
       "      <td>0</td>\n",
       "      <td>0</td>\n",
       "      <td>0</td>\n",
       "      <td>0</td>\n",
       "      <td>...</td>\n",
       "      <td>1</td>\n",
       "      <td>1</td>\n",
       "      <td>0</td>\n",
       "      <td>0</td>\n",
       "      <td>0</td>\n",
       "      <td>0</td>\n",
       "      <td>0</td>\n",
       "      <td>0</td>\n",
       "      <td>0</td>\n",
       "      <td>0</td>\n",
       "    </tr>\n",
       "  </tbody>\n",
       "</table>\n",
       "<p>6 rows × 23 columns</p>\n",
       "</div>"
      ],
      "text/plain": [
       "                                   pred_x  \\\n",
       "12  http://ja.dbpedia.org/property/before   \n",
       "13  http://ja.dbpedia.org/property/隣接都道府県   \n",
       "24  http://ja.dbpedia.org/property/隣接都道府県   \n",
       "60  http://ja.dbpedia.org/property/before   \n",
       "83  http://ja.dbpedia.org/property/隣接都道府県   \n",
       "90  http://ja.dbpedia.org/property/隣接都道府県   \n",
       "\n",
       "                                  obj_x  \\\n",
       "12   http://ja.dbpedia.org/resource/高知県   \n",
       "13   http://ja.dbpedia.org/resource/高知県   \n",
       "24   http://ja.dbpedia.org/resource/石川県   \n",
       "60   http://ja.dbpedia.org/resource/石川県   \n",
       "83  http://ja.dbpedia.org/resource/鹿児島県   \n",
       "90   http://ja.dbpedia.org/resource/高知県   \n",
       "\n",
       "                                              obj_vec  隣接都道府県_01  before_01  \\\n",
       "12  [-0.021919195, 0.10427152, 0.04427553, 0.12341...          1          1   \n",
       "13  [-0.021919195, 0.10427152, 0.04427553, 0.12341...          1          1   \n",
       "24  [-0.031856198, 0.120232046, 0.12296562, 0.0831...          1          1   \n",
       "60  [-0.031856198, 0.120232046, 0.12296562, 0.0831...          1          1   \n",
       "83  [-0.025638053, 0.111953475, 0.030292727, 0.164...          1          0   \n",
       "90  [-0.021919195, 0.10427152, 0.04427553, 0.12341...          1          1   \n",
       "\n",
       "    歌など_01  所在地_01  説明_01  表記_01  years_01  ...  隣接都道府県  before  歌など  所在地  説明  \\\n",
       "12       0       0      0      0         0  ...       1       1    0    0   0   \n",
       "13       0       0      0      0         0  ...       1       1    0    0   0   \n",
       "24       0       0      0      0         0  ...       1       1    0    0   0   \n",
       "60       0       0      0      0         0  ...       1       1    0    0   0   \n",
       "83       0       0      0      0         0  ...       1       0    0    0   0   \n",
       "90       0       0      0      0         0  ...       1       1    0    0   0   \n",
       "\n",
       "    表記  years  after  シンボル名  title  \n",
       "12   0      0      0      0      0  \n",
       "13   0      0      0      0      0  \n",
       "24   0      0      0      0      0  \n",
       "60   0      0      0      0      0  \n",
       "83   0      0      1      0      0  \n",
       "90   0      0      0      0      0  \n",
       "\n",
       "[6 rows x 23 columns]"
      ]
     },
     "execution_count": 40,
     "metadata": {},
     "output_type": "execute_result"
    }
   ],
   "source": [
    "test_pred_df[test_pred_df.loc[:,'隣接都道府県':'title'].sum(axis=1) > 1]"
   ]
  },
  {
   "cell_type": "code",
   "execution_count": null,
   "metadata": {},
   "outputs": [],
   "source": []
  }
 ],
 "metadata": {
  "interpreter": {
   "hash": "db33b9f7f7cfa92ad9f742d45b74c770b03f299969fa4d08d31fb7fd7d681032"
  },
  "kernelspec": {
   "display_name": "develop",
   "language": "python",
   "name": "develop"
  },
  "language_info": {
   "codemirror_mode": {
    "name": "ipython",
    "version": 3
   },
   "file_extension": ".py",
   "mimetype": "text/x-python",
   "name": "python",
   "nbconvert_exporter": "python",
   "pygments_lexer": "ipython3",
   "version": "3.7.10"
  },
  "metadata": {
   "interpreter": {
    "hash": "db33b9f7f7cfa92ad9f742d45b74c770b03f299969fa4d08d31fb7fd7d681032"
   }
  },
  "toc-autonumbering": false,
  "toc-showmarkdowntxt": false,
  "toc-showtags": true
 },
 "nbformat": 4,
 "nbformat_minor": 4
}
